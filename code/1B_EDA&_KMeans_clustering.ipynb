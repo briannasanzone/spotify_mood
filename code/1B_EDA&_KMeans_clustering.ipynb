{
 "cells": [
  {
   "cell_type": "markdown",
   "id": "f05c04d4",
   "metadata": {},
   "source": [
    "#### **Imports**"
   ]
  },
  {
   "cell_type": "code",
   "execution_count": 1,
   "id": "719ac0fb",
   "metadata": {},
   "outputs": [],
   "source": [
    "import pandas as pd\r\n",
    "import numpy as np\r\n",
    "import seaborn as sns\r\n",
    "import matplotlib.pyplot as plt\r\n",
    "import time\r\n",
    "\r\n",
    "from sklearn.cluster import KMeans\r\n",
    "from sklearn.preprocessing import StandardScaler, MinMaxScaler, OneHotEncoder, LabelBinarizer, LabelEncoder\r\n",
    "from sklearn.metrics import silhouette_score, ConfusionMatrixDisplay, confusion_matrix, plot_confusion_matrix, multilabel_confusion_matrix, accuracy_score, recall_score, precision_score, roc_auc_score, roc_curve, plot_roc_curve, f1_score\r\n",
    "\r\n",
    "sns.set_theme(palette='viridis')\r\n",
    "sns.set_style('whitegrid')"
   ]
  },
  {
   "cell_type": "code",
   "execution_count": 2,
   "id": "9c2067cd",
   "metadata": {},
   "outputs": [
    {
     "data": {
      "text/html": [
       "<div>\n",
       "<style scoped>\n",
       "    .dataframe tbody tr th:only-of-type {\n",
       "        vertical-align: middle;\n",
       "    }\n",
       "\n",
       "    .dataframe tbody tr th {\n",
       "        vertical-align: top;\n",
       "    }\n",
       "\n",
       "    .dataframe thead th {\n",
       "        text-align: right;\n",
       "    }\n",
       "</style>\n",
       "<table border=\"1\" class=\"dataframe\">\n",
       "  <thead>\n",
       "    <tr style=\"text-align: right;\">\n",
       "      <th></th>\n",
       "      <th>name</th>\n",
       "      <th>artist</th>\n",
       "      <th>track_id</th>\n",
       "      <th>instrumentalness</th>\n",
       "      <th>danceability</th>\n",
       "      <th>energy</th>\n",
       "      <th>liveness</th>\n",
       "      <th>loudness</th>\n",
       "      <th>acousticness</th>\n",
       "      <th>valence</th>\n",
       "      <th>speechiness</th>\n",
       "      <th>tempo</th>\n",
       "      <th>key</th>\n",
       "      <th>time_signature</th>\n",
       "      <th>length</th>\n",
       "      <th>popularity</th>\n",
       "      <th>mood</th>\n",
       "    </tr>\n",
       "  </thead>\n",
       "  <tbody>\n",
       "    <tr>\n",
       "      <th>0</th>\n",
       "      <td>Kiss Me More (feat. SZA)</td>\n",
       "      <td>Doja Cat</td>\n",
       "      <td>748mdHapucXQri7IAO8yFK</td>\n",
       "      <td>0.000158</td>\n",
       "      <td>0.762</td>\n",
       "      <td>0.701</td>\n",
       "      <td>0.1230</td>\n",
       "      <td>-3.541</td>\n",
       "      <td>0.23500</td>\n",
       "      <td>0.742</td>\n",
       "      <td>0.0286</td>\n",
       "      <td>110.968</td>\n",
       "      <td>8</td>\n",
       "      <td>4</td>\n",
       "      <td>208866</td>\n",
       "      <td>92</td>\n",
       "      <td>Happy</td>\n",
       "    </tr>\n",
       "    <tr>\n",
       "      <th>1</th>\n",
       "      <td>seaside_demo</td>\n",
       "      <td>SEB</td>\n",
       "      <td>73M0rMVx5CWE8M4uATSsto</td>\n",
       "      <td>0.000133</td>\n",
       "      <td>0.706</td>\n",
       "      <td>0.824</td>\n",
       "      <td>0.1110</td>\n",
       "      <td>-7.959</td>\n",
       "      <td>0.35500</td>\n",
       "      <td>0.860</td>\n",
       "      <td>0.0694</td>\n",
       "      <td>94.980</td>\n",
       "      <td>0</td>\n",
       "      <td>4</td>\n",
       "      <td>132000</td>\n",
       "      <td>54</td>\n",
       "      <td>Happy</td>\n",
       "    </tr>\n",
       "    <tr>\n",
       "      <th>2</th>\n",
       "      <td>Shivers</td>\n",
       "      <td>Ed Sheeran</td>\n",
       "      <td>6bQfNiqyCX7UaQSvVVGo4I</td>\n",
       "      <td>0.000000</td>\n",
       "      <td>0.788</td>\n",
       "      <td>0.859</td>\n",
       "      <td>0.0424</td>\n",
       "      <td>-2.724</td>\n",
       "      <td>0.28100</td>\n",
       "      <td>0.822</td>\n",
       "      <td>0.0856</td>\n",
       "      <td>141.020</td>\n",
       "      <td>2</td>\n",
       "      <td>4</td>\n",
       "      <td>207853</td>\n",
       "      <td>78</td>\n",
       "      <td>Happy</td>\n",
       "    </tr>\n",
       "    <tr>\n",
       "      <th>3</th>\n",
       "      <td>Heat Waves</td>\n",
       "      <td>Glass Animals</td>\n",
       "      <td>02MWAaffLxlfxAUY7c5dvx</td>\n",
       "      <td>0.000007</td>\n",
       "      <td>0.761</td>\n",
       "      <td>0.525</td>\n",
       "      <td>0.0921</td>\n",
       "      <td>-6.900</td>\n",
       "      <td>0.44000</td>\n",
       "      <td>0.531</td>\n",
       "      <td>0.0944</td>\n",
       "      <td>80.870</td>\n",
       "      <td>11</td>\n",
       "      <td>4</td>\n",
       "      <td>238805</td>\n",
       "      <td>85</td>\n",
       "      <td>Happy</td>\n",
       "    </tr>\n",
       "    <tr>\n",
       "      <th>4</th>\n",
       "      <td>Electric Love</td>\n",
       "      <td>BØRNS</td>\n",
       "      <td>2GiJYvgVaD2HtM8GqD9EgQ</td>\n",
       "      <td>0.001370</td>\n",
       "      <td>0.611</td>\n",
       "      <td>0.797</td>\n",
       "      <td>0.2600</td>\n",
       "      <td>-7.627</td>\n",
       "      <td>0.00543</td>\n",
       "      <td>0.518</td>\n",
       "      <td>0.0533</td>\n",
       "      <td>120.041</td>\n",
       "      <td>6</td>\n",
       "      <td>4</td>\n",
       "      <td>218106</td>\n",
       "      <td>82</td>\n",
       "      <td>Happy</td>\n",
       "    </tr>\n",
       "  </tbody>\n",
       "</table>\n",
       "</div>"
      ],
      "text/plain": [
       "                       name         artist                track_id  \\\n",
       "0  Kiss Me More (feat. SZA)       Doja Cat  748mdHapucXQri7IAO8yFK   \n",
       "1              seaside_demo            SEB  73M0rMVx5CWE8M4uATSsto   \n",
       "2                   Shivers     Ed Sheeran  6bQfNiqyCX7UaQSvVVGo4I   \n",
       "3                Heat Waves  Glass Animals  02MWAaffLxlfxAUY7c5dvx   \n",
       "4             Electric Love          BØRNS  2GiJYvgVaD2HtM8GqD9EgQ   \n",
       "\n",
       "   instrumentalness  danceability  energy  liveness  loudness  acousticness  \\\n",
       "0          0.000158         0.762   0.701    0.1230    -3.541       0.23500   \n",
       "1          0.000133         0.706   0.824    0.1110    -7.959       0.35500   \n",
       "2          0.000000         0.788   0.859    0.0424    -2.724       0.28100   \n",
       "3          0.000007         0.761   0.525    0.0921    -6.900       0.44000   \n",
       "4          0.001370         0.611   0.797    0.2600    -7.627       0.00543   \n",
       "\n",
       "   valence  speechiness    tempo  key  time_signature  length  popularity  \\\n",
       "0    0.742       0.0286  110.968    8               4  208866          92   \n",
       "1    0.860       0.0694   94.980    0               4  132000          54   \n",
       "2    0.822       0.0856  141.020    2               4  207853          78   \n",
       "3    0.531       0.0944   80.870   11               4  238805          85   \n",
       "4    0.518       0.0533  120.041    6               4  218106          82   \n",
       "\n",
       "    mood  \n",
       "0  Happy  \n",
       "1  Happy  \n",
       "2  Happy  \n",
       "3  Happy  \n",
       "4  Happy  "
      ]
     },
     "execution_count": 2,
     "metadata": {},
     "output_type": "execute_result"
    }
   ],
   "source": [
    "df=pd.read_csv('../data/mood_data.csv')\r\n",
    "df.head()"
   ]
  },
  {
   "cell_type": "code",
   "execution_count": 3,
   "id": "1f92caa3",
   "metadata": {},
   "outputs": [
    {
     "data": {
      "text/plain": [
       "(5849, 17)"
      ]
     },
     "execution_count": 3,
     "metadata": {},
     "output_type": "execute_result"
    }
   ],
   "source": [
    "df.shape"
   ]
  },
  {
   "cell_type": "code",
   "execution_count": 4,
   "id": "2abe4df2",
   "metadata": {},
   "outputs": [
    {
     "name": "stdout",
     "output_type": "stream",
     "text": [
      "<class 'pandas.core.frame.DataFrame'>\n",
      "RangeIndex: 5849 entries, 0 to 5848\n",
      "Data columns (total 17 columns):\n",
      " #   Column            Non-Null Count  Dtype  \n",
      "---  ------            --------------  -----  \n",
      " 0   name              5849 non-null   object \n",
      " 1   artist            5849 non-null   object \n",
      " 2   track_id          5849 non-null   object \n",
      " 3   instrumentalness  5849 non-null   float64\n",
      " 4   danceability      5849 non-null   float64\n",
      " 5   energy            5849 non-null   float64\n",
      " 6   liveness          5849 non-null   float64\n",
      " 7   loudness          5849 non-null   float64\n",
      " 8   acousticness      5849 non-null   float64\n",
      " 9   valence           5849 non-null   float64\n",
      " 10  speechiness       5849 non-null   float64\n",
      " 11  tempo             5849 non-null   float64\n",
      " 12  key               5849 non-null   int64  \n",
      " 13  time_signature    5849 non-null   int64  \n",
      " 14  length            5849 non-null   int64  \n",
      " 15  popularity        5849 non-null   int64  \n",
      " 16  mood              5849 non-null   object \n",
      "dtypes: float64(9), int64(4), object(4)\n",
      "memory usage: 776.9+ KB\n"
     ]
    }
   ],
   "source": [
    "df.info()"
   ]
  },
  {
   "cell_type": "code",
   "execution_count": 5,
   "id": "894ece43",
   "metadata": {},
   "outputs": [
    {
     "data": {
      "text/html": [
       "<div>\n",
       "<style scoped>\n",
       "    .dataframe tbody tr th:only-of-type {\n",
       "        vertical-align: middle;\n",
       "    }\n",
       "\n",
       "    .dataframe tbody tr th {\n",
       "        vertical-align: top;\n",
       "    }\n",
       "\n",
       "    .dataframe thead th {\n",
       "        text-align: right;\n",
       "    }\n",
       "</style>\n",
       "<table border=\"1\" class=\"dataframe\">\n",
       "  <thead>\n",
       "    <tr style=\"text-align: right;\">\n",
       "      <th></th>\n",
       "      <th>instrumentalness</th>\n",
       "      <th>danceability</th>\n",
       "      <th>energy</th>\n",
       "      <th>liveness</th>\n",
       "      <th>loudness</th>\n",
       "      <th>acousticness</th>\n",
       "      <th>valence</th>\n",
       "      <th>speechiness</th>\n",
       "      <th>tempo</th>\n",
       "      <th>key</th>\n",
       "      <th>time_signature</th>\n",
       "      <th>length</th>\n",
       "      <th>popularity</th>\n",
       "    </tr>\n",
       "    <tr>\n",
       "      <th>mood</th>\n",
       "      <th></th>\n",
       "      <th></th>\n",
       "      <th></th>\n",
       "      <th></th>\n",
       "      <th></th>\n",
       "      <th></th>\n",
       "      <th></th>\n",
       "      <th></th>\n",
       "      <th></th>\n",
       "      <th></th>\n",
       "      <th></th>\n",
       "      <th></th>\n",
       "      <th></th>\n",
       "    </tr>\n",
       "  </thead>\n",
       "  <tbody>\n",
       "    <tr>\n",
       "      <th>Calm</th>\n",
       "      <td>0.377390</td>\n",
       "      <td>0.566250</td>\n",
       "      <td>0.418113</td>\n",
       "      <td>0.147219</td>\n",
       "      <td>-12.828551</td>\n",
       "      <td>0.533209</td>\n",
       "      <td>0.397077</td>\n",
       "      <td>0.063728</td>\n",
       "      <td>114.031637</td>\n",
       "      <td>5.256039</td>\n",
       "      <td>3.885266</td>\n",
       "      <td>199049.187802</td>\n",
       "      <td>46.401570</td>\n",
       "    </tr>\n",
       "    <tr>\n",
       "      <th>Energetic</th>\n",
       "      <td>0.019837</td>\n",
       "      <td>0.665531</td>\n",
       "      <td>0.741194</td>\n",
       "      <td>0.205080</td>\n",
       "      <td>-5.641584</td>\n",
       "      <td>0.110434</td>\n",
       "      <td>0.556976</td>\n",
       "      <td>0.121004</td>\n",
       "      <td>123.177736</td>\n",
       "      <td>5.177486</td>\n",
       "      <td>3.984807</td>\n",
       "      <td>204661.474448</td>\n",
       "      <td>58.143646</td>\n",
       "    </tr>\n",
       "    <tr>\n",
       "      <th>Happy</th>\n",
       "      <td>0.049415</td>\n",
       "      <td>0.652748</td>\n",
       "      <td>0.705359</td>\n",
       "      <td>0.185085</td>\n",
       "      <td>-6.737772</td>\n",
       "      <td>0.180482</td>\n",
       "      <td>0.610693</td>\n",
       "      <td>0.069277</td>\n",
       "      <td>120.820803</td>\n",
       "      <td>5.135258</td>\n",
       "      <td>3.977204</td>\n",
       "      <td>210870.745441</td>\n",
       "      <td>53.467325</td>\n",
       "    </tr>\n",
       "    <tr>\n",
       "      <th>Sad</th>\n",
       "      <td>0.094819</td>\n",
       "      <td>0.544282</td>\n",
       "      <td>0.419955</td>\n",
       "      <td>0.148996</td>\n",
       "      <td>-9.785288</td>\n",
       "      <td>0.542850</td>\n",
       "      <td>0.324774</td>\n",
       "      <td>0.058517</td>\n",
       "      <td>118.574442</td>\n",
       "      <td>5.128062</td>\n",
       "      <td>3.847446</td>\n",
       "      <td>221027.595521</td>\n",
       "      <td>48.449265</td>\n",
       "    </tr>\n",
       "  </tbody>\n",
       "</table>\n",
       "</div>"
      ],
      "text/plain": [
       "           instrumentalness  danceability    energy  liveness   loudness  \\\n",
       "mood                                                                       \n",
       "Calm               0.377390      0.566250  0.418113  0.147219 -12.828551   \n",
       "Energetic          0.019837      0.665531  0.741194  0.205080  -5.641584   \n",
       "Happy              0.049415      0.652748  0.705359  0.185085  -6.737772   \n",
       "Sad                0.094819      0.544282  0.419955  0.148996  -9.785288   \n",
       "\n",
       "           acousticness   valence  speechiness       tempo       key  \\\n",
       "mood                                                                   \n",
       "Calm           0.533209  0.397077     0.063728  114.031637  5.256039   \n",
       "Energetic      0.110434  0.556976     0.121004  123.177736  5.177486   \n",
       "Happy          0.180482  0.610693     0.069277  120.820803  5.135258   \n",
       "Sad            0.542850  0.324774     0.058517  118.574442  5.128062   \n",
       "\n",
       "           time_signature         length  popularity  \n",
       "mood                                                  \n",
       "Calm             3.885266  199049.187802   46.401570  \n",
       "Energetic        3.984807  204661.474448   58.143646  \n",
       "Happy            3.977204  210870.745441   53.467325  \n",
       "Sad              3.847446  221027.595521   48.449265  "
      ]
     },
     "execution_count": 5,
     "metadata": {},
     "output_type": "execute_result"
    }
   ],
   "source": [
    "mood_mean=df.groupby('mood').mean()\r\n",
    "mood_mean"
   ]
  },
  {
   "cell_type": "code",
   "execution_count": 10,
   "id": "9ddcf05d",
   "metadata": {},
   "outputs": [],
   "source": [
    "features = df[['instrumentalness', \r\n",
    "             'danceability',\r\n",
    "             'energy', \r\n",
    "             'liveness', \r\n",
    "             'loudness', \r\n",
    "             'acousticness', \r\n",
    "             'valence',\r\n",
    "             'speechiness']]"
   ]
  },
  {
   "cell_type": "code",
   "execution_count": null,
   "id": "2d6ca5c8-7377-4044-b1a1-f8d893a401a4",
   "metadata": {},
   "outputs": [],
   "source": [
    "mask = np.zeros_like(df[df['mood']=='Sad'].drop(columns='mood_map').corr())# \n",
    "mask[np.triu_indices_from(mask)] = True\n",
    "# heat map\n",
    "fig, ax = plt.subplots(figsize=(11, 1# 1))\n",
    "plt.fontsize = 27\n",
    "sns.heatmap(df[df['mood']=='Sad'].drop(columns='mood_map').corr(), mask= mask,\n",
    "            annot = True, cmap='viridis', vmin = -1, vmax = 1);"
   ]
  },
  {
   "cell_type": "code",
   "execution_count": 8,
   "id": "59e0378b",
   "metadata": {},
   "outputs": [
    {
     "ename": "SyntaxError",
     "evalue": "invalid syntax (<ipython-input-8-307e5de9f388>, line 5)",
     "output_type": "error",
     "traceback": [
      "\u001b[1;36m  File \u001b[1;32m\"<ipython-input-8-307e5de9f388>\"\u001b[1;36m, line \u001b[1;32m5\u001b[0m\n\u001b[1;33m    plt.fontsize # = 27\u001b[0m\n\u001b[1;37m    ^\u001b[0m\n\u001b[1;31mSyntaxError\u001b[0m\u001b[1;31m:\u001b[0m invalid syntax\n"
     ]
    }
   ],
   "source": [
    "mask = np.zeros_like(df[df['mood']=='Calm'].drop(columns='mood_map').corr())# \r\n",
    "mask[np.triu_indices_from(mask)] = Treeap\r\n",
    "fig, ax = plt.subplots(figsize=(11, 1# 1))\r\n",
    "plt.fonts# = 27\r\n",
    "sns.heatmap(df[df['mood']=='Calm'].drop(columns='mood_map').corr(),  maskmask,\r\n",
    "            annot = True, cmap='winter', vmin = -1, vmax = 1);"
   ]
  },
  {
   "cell_type": "code",
   "execution_count": 9,
   "id": "574e1cc9",
   "metadata": {},
   "outputs": [
    {
     "ename": "SyntaxError",
     "evalue": "invalid syntax (<ipython-input-9-0c81920bdd20>, line 7)",
     "output_type": "error",
     "traceback": [
      "\u001b[1;36m  File \u001b[1;32m\"<ipython-input-9-0c81920bdd20>\"\u001b[1;36m, line \u001b[1;32m7\u001b[0m\n\u001b[1;33m    plt.fontsize # = 27\u001b[0m\n\u001b[1;37m    ^\u001b[0m\n\u001b[1;31mSyntaxError\u001b[0m\u001b[1;31m:\u001b[0m invalid syntax\n"
     ]
    }
   ],
   "source": [
    "# # Set up mask to be \"True\" in the upper triangle\r",
    "# \n",
    "mask = np.zeros_like(df[df['mood']=='Happy'].drop(columns='mood_map').corr())# \r\n",
    "mask[np.triu_indices_from(mask)] = Tree\r\n",
    "# Heat m# ap\r\n",
    "fig, ax = plt.subplots(figsize=(111# 1))\r\n",
    "plt.fontsize # = 27\r\n",
    "sns.heatmap(df[df['mood']=='Happy'].drop(columns='mood_map').corr(),  maskmask,\r\n",
    "            annot = True, cmap='autumn_r', vmin = -1, vmax = 1);"
   ]
  },
  {
   "cell_type": "code",
   "execution_count": 9,
   "id": "b7a8c46b",
   "metadata": {},
   "outputs": [
    {
     "ename": "KeyError",
     "evalue": "\"['mood_map'] not found in axis\"",
     "output_type": "error",
     "traceback": [
      "\u001b[1;31m---------------------------------------------------------------------------\u001b[0m",
      "\u001b[1;31mKeyError\u001b[0m                                  Traceback (most recent call last)",
      "\u001b[1;32m<ipython-input-9-2406e3304bf6>\u001b[0m in \u001b[0;36m<module>\u001b[1;34m\u001b[0m\n\u001b[0;32m      1\u001b[0m \u001b[1;31m# Set up mask to be \"True\" in the upper triangle\u001b[0m\u001b[1;33m\u001b[0m\u001b[1;33m\u001b[0m\u001b[1;33m\u001b[0m\u001b[0m\n\u001b[1;32m----> 2\u001b[1;33m \u001b[0mmask\u001b[0m \u001b[1;33m=\u001b[0m \u001b[0mnp\u001b[0m\u001b[1;33m.\u001b[0m\u001b[0mzeros_like\u001b[0m\u001b[1;33m(\u001b[0m\u001b[0mdf\u001b[0m\u001b[1;33m[\u001b[0m\u001b[0mdf\u001b[0m\u001b[1;33m[\u001b[0m\u001b[1;34m'mood'\u001b[0m\u001b[1;33m]\u001b[0m\u001b[1;33m==\u001b[0m\u001b[1;34m'Energetic'\u001b[0m\u001b[1;33m]\u001b[0m\u001b[1;33m.\u001b[0m\u001b[0mdrop\u001b[0m\u001b[1;33m(\u001b[0m\u001b[0mcolumns\u001b[0m\u001b[1;33m=\u001b[0m\u001b[1;34m'mood_map'\u001b[0m\u001b[1;33m)\u001b[0m\u001b[1;33m.\u001b[0m\u001b[0mcorr\u001b[0m\u001b[1;33m(\u001b[0m\u001b[1;33m)\u001b[0m\u001b[1;33m)\u001b[0m\u001b[1;33m\u001b[0m\u001b[1;33m\u001b[0m\u001b[0m\n\u001b[0m\u001b[0;32m      3\u001b[0m \u001b[0mmask\u001b[0m\u001b[1;33m[\u001b[0m\u001b[0mnp\u001b[0m\u001b[1;33m.\u001b[0m\u001b[0mtriu_indices_from\u001b[0m\u001b[1;33m(\u001b[0m\u001b[0mmask\u001b[0m\u001b[1;33m)\u001b[0m\u001b[1;33m]\u001b[0m \u001b[1;33m=\u001b[0m \u001b[1;32mTrue\u001b[0m\u001b[1;33m\u001b[0m\u001b[1;33m\u001b[0m\u001b[0m\n\u001b[0;32m      4\u001b[0m \u001b[1;33m\u001b[0m\u001b[0m\n\u001b[0;32m      5\u001b[0m \u001b[1;31m# Heat map\u001b[0m\u001b[1;33m\u001b[0m\u001b[1;33m\u001b[0m\u001b[1;33m\u001b[0m\u001b[0m\n",
      "\u001b[1;32m~\\Anaconda3\\lib\\site-packages\\pandas\\core\\frame.py\u001b[0m in \u001b[0;36mdrop\u001b[1;34m(self, labels, axis, index, columns, level, inplace, errors)\u001b[0m\n\u001b[0;32m   4306\u001b[0m                 \u001b[0mweight\u001b[0m  \u001b[1;36m1.0\u001b[0m     \u001b[1;36m0.8\u001b[0m\u001b[1;33m\u001b[0m\u001b[1;33m\u001b[0m\u001b[0m\n\u001b[0;32m   4307\u001b[0m         \"\"\"\n\u001b[1;32m-> 4308\u001b[1;33m         return super().drop(\n\u001b[0m\u001b[0;32m   4309\u001b[0m             \u001b[0mlabels\u001b[0m\u001b[1;33m=\u001b[0m\u001b[0mlabels\u001b[0m\u001b[1;33m,\u001b[0m\u001b[1;33m\u001b[0m\u001b[1;33m\u001b[0m\u001b[0m\n\u001b[0;32m   4310\u001b[0m             \u001b[0maxis\u001b[0m\u001b[1;33m=\u001b[0m\u001b[0maxis\u001b[0m\u001b[1;33m,\u001b[0m\u001b[1;33m\u001b[0m\u001b[1;33m\u001b[0m\u001b[0m\n",
      "\u001b[1;32m~\\Anaconda3\\lib\\site-packages\\pandas\\core\\generic.py\u001b[0m in \u001b[0;36mdrop\u001b[1;34m(self, labels, axis, index, columns, level, inplace, errors)\u001b[0m\n\u001b[0;32m   4151\u001b[0m         \u001b[1;32mfor\u001b[0m \u001b[0maxis\u001b[0m\u001b[1;33m,\u001b[0m \u001b[0mlabels\u001b[0m \u001b[1;32min\u001b[0m \u001b[0maxes\u001b[0m\u001b[1;33m.\u001b[0m\u001b[0mitems\u001b[0m\u001b[1;33m(\u001b[0m\u001b[1;33m)\u001b[0m\u001b[1;33m:\u001b[0m\u001b[1;33m\u001b[0m\u001b[1;33m\u001b[0m\u001b[0m\n\u001b[0;32m   4152\u001b[0m             \u001b[1;32mif\u001b[0m \u001b[0mlabels\u001b[0m \u001b[1;32mis\u001b[0m \u001b[1;32mnot\u001b[0m \u001b[1;32mNone\u001b[0m\u001b[1;33m:\u001b[0m\u001b[1;33m\u001b[0m\u001b[1;33m\u001b[0m\u001b[0m\n\u001b[1;32m-> 4153\u001b[1;33m                 \u001b[0mobj\u001b[0m \u001b[1;33m=\u001b[0m \u001b[0mobj\u001b[0m\u001b[1;33m.\u001b[0m\u001b[0m_drop_axis\u001b[0m\u001b[1;33m(\u001b[0m\u001b[0mlabels\u001b[0m\u001b[1;33m,\u001b[0m \u001b[0maxis\u001b[0m\u001b[1;33m,\u001b[0m \u001b[0mlevel\u001b[0m\u001b[1;33m=\u001b[0m\u001b[0mlevel\u001b[0m\u001b[1;33m,\u001b[0m \u001b[0merrors\u001b[0m\u001b[1;33m=\u001b[0m\u001b[0merrors\u001b[0m\u001b[1;33m)\u001b[0m\u001b[1;33m\u001b[0m\u001b[1;33m\u001b[0m\u001b[0m\n\u001b[0m\u001b[0;32m   4154\u001b[0m \u001b[1;33m\u001b[0m\u001b[0m\n\u001b[0;32m   4155\u001b[0m         \u001b[1;32mif\u001b[0m \u001b[0minplace\u001b[0m\u001b[1;33m:\u001b[0m\u001b[1;33m\u001b[0m\u001b[1;33m\u001b[0m\u001b[0m\n",
      "\u001b[1;32m~\\Anaconda3\\lib\\site-packages\\pandas\\core\\generic.py\u001b[0m in \u001b[0;36m_drop_axis\u001b[1;34m(self, labels, axis, level, errors)\u001b[0m\n\u001b[0;32m   4186\u001b[0m                 \u001b[0mnew_axis\u001b[0m \u001b[1;33m=\u001b[0m \u001b[0maxis\u001b[0m\u001b[1;33m.\u001b[0m\u001b[0mdrop\u001b[0m\u001b[1;33m(\u001b[0m\u001b[0mlabels\u001b[0m\u001b[1;33m,\u001b[0m \u001b[0mlevel\u001b[0m\u001b[1;33m=\u001b[0m\u001b[0mlevel\u001b[0m\u001b[1;33m,\u001b[0m \u001b[0merrors\u001b[0m\u001b[1;33m=\u001b[0m\u001b[0merrors\u001b[0m\u001b[1;33m)\u001b[0m\u001b[1;33m\u001b[0m\u001b[1;33m\u001b[0m\u001b[0m\n\u001b[0;32m   4187\u001b[0m             \u001b[1;32melse\u001b[0m\u001b[1;33m:\u001b[0m\u001b[1;33m\u001b[0m\u001b[1;33m\u001b[0m\u001b[0m\n\u001b[1;32m-> 4188\u001b[1;33m                 \u001b[0mnew_axis\u001b[0m \u001b[1;33m=\u001b[0m \u001b[0maxis\u001b[0m\u001b[1;33m.\u001b[0m\u001b[0mdrop\u001b[0m\u001b[1;33m(\u001b[0m\u001b[0mlabels\u001b[0m\u001b[1;33m,\u001b[0m \u001b[0merrors\u001b[0m\u001b[1;33m=\u001b[0m\u001b[0merrors\u001b[0m\u001b[1;33m)\u001b[0m\u001b[1;33m\u001b[0m\u001b[1;33m\u001b[0m\u001b[0m\n\u001b[0m\u001b[0;32m   4189\u001b[0m             \u001b[0mresult\u001b[0m \u001b[1;33m=\u001b[0m \u001b[0mself\u001b[0m\u001b[1;33m.\u001b[0m\u001b[0mreindex\u001b[0m\u001b[1;33m(\u001b[0m\u001b[1;33m**\u001b[0m\u001b[1;33m{\u001b[0m\u001b[0maxis_name\u001b[0m\u001b[1;33m:\u001b[0m \u001b[0mnew_axis\u001b[0m\u001b[1;33m}\u001b[0m\u001b[1;33m)\u001b[0m\u001b[1;33m\u001b[0m\u001b[1;33m\u001b[0m\u001b[0m\n\u001b[0;32m   4190\u001b[0m \u001b[1;33m\u001b[0m\u001b[0m\n",
      "\u001b[1;32m~\\Anaconda3\\lib\\site-packages\\pandas\\core\\indexes\\base.py\u001b[0m in \u001b[0;36mdrop\u001b[1;34m(self, labels, errors)\u001b[0m\n\u001b[0;32m   5589\u001b[0m         \u001b[1;32mif\u001b[0m \u001b[0mmask\u001b[0m\u001b[1;33m.\u001b[0m\u001b[0many\u001b[0m\u001b[1;33m(\u001b[0m\u001b[1;33m)\u001b[0m\u001b[1;33m:\u001b[0m\u001b[1;33m\u001b[0m\u001b[1;33m\u001b[0m\u001b[0m\n\u001b[0;32m   5590\u001b[0m             \u001b[1;32mif\u001b[0m \u001b[0merrors\u001b[0m \u001b[1;33m!=\u001b[0m \u001b[1;34m\"ignore\"\u001b[0m\u001b[1;33m:\u001b[0m\u001b[1;33m\u001b[0m\u001b[1;33m\u001b[0m\u001b[0m\n\u001b[1;32m-> 5591\u001b[1;33m                 \u001b[1;32mraise\u001b[0m \u001b[0mKeyError\u001b[0m\u001b[1;33m(\u001b[0m\u001b[1;34mf\"{labels[mask]} not found in axis\"\u001b[0m\u001b[1;33m)\u001b[0m\u001b[1;33m\u001b[0m\u001b[1;33m\u001b[0m\u001b[0m\n\u001b[0m\u001b[0;32m   5592\u001b[0m             \u001b[0mindexer\u001b[0m \u001b[1;33m=\u001b[0m \u001b[0mindexer\u001b[0m\u001b[1;33m[\u001b[0m\u001b[1;33m~\u001b[0m\u001b[0mmask\u001b[0m\u001b[1;33m]\u001b[0m\u001b[1;33m\u001b[0m\u001b[1;33m\u001b[0m\u001b[0m\n\u001b[0;32m   5593\u001b[0m         \u001b[1;32mreturn\u001b[0m \u001b[0mself\u001b[0m\u001b[1;33m.\u001b[0m\u001b[0mdelete\u001b[0m\u001b[1;33m(\u001b[0m\u001b[0mindexer\u001b[0m\u001b[1;33m)\u001b[0m\u001b[1;33m\u001b[0m\u001b[1;33m\u001b[0m\u001b[0m\n",
      "\u001b[1;31mKeyError\u001b[0m: \"['mood_map'] not found in axis\""
     ]
    }
   ],
   "source": [
    "# Set up mask to be \"True\" in the upper triangle\r\n",
    "mask = np.zeros_like(df[df['mood']=='Energetic'].drop(columns='mood_map').corr())\r\n",
    "mask[np.triu_indices_from(mask)] = True\r\n",
    "\r\n",
    "# Heat map\r\n",
    "fig, ax = plt.subplots(figsize=(11, 11))\r\n",
    "plt.fontsize = 27\r\n",
    "sns.heatmap(df[df['mood']=='Energetic'].drop(columns='mood_map').corr(), mask=mask,\r\n",
    "            annot = True, cmap='plasma_r', vmin = -1, vmax = 1);"
   ]
  },
  {
   "cell_type": "code",
   "execution_count": 18,
   "id": "bfa06091",
   "metadata": {},
   "outputs": [
    {
     "ename": "SyntaxError",
     "evalue": "invalid syntax (<ipython-input-18-1c450bf7b502>, line 3)",
     "output_type": "error",
     "traceback": [
      "\u001b[1;36m  File \u001b[1;32m\"<ipython-input-18-1c450bf7b502>\"\u001b[1;36m, line \u001b[1;32m3\u001b[0m\n\u001b[1;33m    xc MinMaxScalerer()\u001b[0m\n\u001b[1;37m       ^\u001b[0m\n\u001b[1;31mSyntaxError\u001b[0m\u001b[1;31m:\u001b[0m invalid syntax\n"
     ]
    }
   ],
   "source": [
    "X = features\r\n",
    "# standardize X data\r\n",
    "xc MinMaxScalerer()\r\n",
    "X_xc= xc.fit_transform(X)\r\n",
    "\r\n",
    "scores = []\r\n",
    "for k in range(2,31):\r\n",
    "    cl = KMeans(n_clusters=k)\r\n",
    "    cl.fit(X_xc)\r\n",
    "    inertia = cl.inertia_\r\n",
    "    sil = silhouette_score(X_xc, cl.labels_)\r\n",
    "    scores.append([k, inertia, sil])\r\n",
    "score_df = pd.DataFrame(scores)\r\n",
    "score_df.columns = ['k', 'inertia', 'silhouette']\r\n",
    "score_df.head(10)"
   ]
  },
  {
   "cell_type": "code",
   "execution_count": null,
   "id": "2e747b40",
   "metadata": {},
   "outputs": [],
   "source": [
    "sns.set_theme(style='darkgrid', palette='winter_r')\r\n",
    "fig, axes = plt.subplots(1, 2, figsize=(14, 7))\r\n",
    "axes[0].plot(score_df.k, score_df.inertia)\r\n",
    "axes[0].set_title('Inertia over k')\r\n",
    "axes[1].plot(score_df.k, score_df.silhouette);\r\n",
    "axes[1].set_title('Silhouette Score over k');"
   ]
  },
  {
   "cell_type": "code",
   "execution_count": null,
   "id": "131257c7",
   "metadata": {},
   "outputs": [],
   "source": [
    "km = KMeans(n_clusters=2)\r\n",
    "km.fit(X_xc)\r\n",
    "# Scaled X gives best results\r\n",
    "df['cluster'] = km.labels_"
   ]
  },
  {
   "cell_type": "code",
   "execution_count": null,
   "id": "fa60f7ca",
   "metadata": {},
   "outputs": [],
   "source": [
    "# Check the mood by cluster\r\n",
    "df.groupby('cluster')['mood'].value_counts()"
   ]
  },
  {
   "cell_type": "code",
   "execution_count": null,
   "id": "d5d27153",
   "metadata": {},
   "outputs": [],
   "source": [
    "sns.set_theme(style='darkgrid', palette='winter')\r\n",
    "df.groupby('cluster')['mood'].value_counts().plot(kind='barh');"
   ]
  },
  {
   "cell_type": "markdown",
   "id": "76048657",
   "metadata": {},
   "source": [
    "#### **Cluster on Unlabeled data**"
   ]
  },
  {
   "cell_type": "code",
   "execution_count": null,
   "id": "7b95bda8",
   "metadata": {},
   "outputs": [],
   "source": [
    "df_million=pd.read_csv('../data/01_features_small.csv')"
   ]
  },
  {
   "cell_type": "code",
   "execution_count": null,
   "id": "f2b6079a",
   "metadata": {},
   "outputs": [],
   "source": [
    "features_million = df_million[['instrumentalness', \r\n",
    "                     'danceability',\r\n",
    "                     'energy', \r\n",
    "                     'liveness', \r\n",
    "                     'loudness', \r\n",
    "                     'acousticness', \r\n",
    "                     'valence',\r\n",
    "                     'speechiness']]\r\n",
    "X_million = features_million\r\n",
    "# standardize X data\r\n",
    "xc = StandardScaler()\r\n",
    "X_xc= xc.fit_transform(X_million)"
   ]
  },
  {
   "cell_type": "code",
   "execution_count": null,
   "id": "be53178e",
   "metadata": {},
   "outputs": [],
   "source": [
    "%%time\r\n",
    "scores = []\r\n",
    "for k in range(2,31):\r\n",
    "    cl = KMeans(n_clusters=k)\r\n",
    "    cl.fit(X_xc)\r\n",
    "    inertia = cl.inertia_\r\n",
    "    sil = silhouette_score(X_xc, cl.labels_)\r\n",
    "    scores.append([k, inertia, sil])\r\n",
    "score_df = pd.DataFrame(scores)\r\n",
    "score_df.columns = ['k', 'inertia', 'silhouette']\r\n",
    "score_df.head(10)"
   ]
  },
  {
   "cell_type": "code",
   "execution_count": null,
   "id": "4c0b231f",
   "metadata": {},
   "outputs": [],
   "source": [
    "km = KMeans(n_clusters=2)\r\n",
    "km.fit(X_xc)\r\n",
    "# Scaled X gives best results\r\n",
    "df_million['cluster'] = km.labels_"
   ]
  },
  {
   "cell_type": "code",
   "execution_count": null,
   "id": "267ce378",
   "metadata": {},
   "outputs": [],
   "source": [
    "df_million.to_csv('../data/df_clusters_partmillion.csv', index=False)"
   ]
  },
  {
   "cell_type": "code",
   "execution_count": null,
   "id": "bd6c73c8",
   "metadata": {},
   "outputs": [],
   "source": [
    "df.to_csv('../data/df_clusters.csv', index=False)"
   ]
  },
  {
   "cell_type": "code",
   "execution_count": null,
   "id": "4caee1eb",
   "metadata": {},
   "outputs": [],
   "source": []
  }
 ],
 "metadata": {
  "interpreter": {
   "hash": "7f44218ad4a04a3f469eca3d18d24c8144ee8c1dbf0cc66a16272c72179d232c"
  },
  "kernelspec": {
   "display_name": "Python 3",
   "language": "python",
   "name": "python3"
  },
  "language_info": {
   "codemirror_mode": {
    "name": "ipython",
    "version": 3
   },
   "file_extension": ".py",
   "mimetype": "text/x-python",
   "name": "python",
   "nbconvert_exporter": "python",
   "pygments_lexer": "ipython3",
   "version": "3.8.8"
  }
 },
 "nbformat": 4,
 "nbformat_minor": 5
}
