{
 "cells": [
  {
   "cell_type": "markdown",
   "id": "eb184585-9c08-43b2-8bf6-c0b56ed1e287",
   "metadata": {},
   "source": [
    "#### **Imports**"
   ]
  },
  {
   "cell_type": "code",
   "execution_count": 1,
   "id": "b1e71368-4bbd-45e8-bb94-f1f65402a9bb",
   "metadata": {},
   "outputs": [],
   "source": [
    "import pandas as pd\n",
    "import numpy as np\n",
    "import seaborn as sns\n",
    "import matplotlib.pyplot as plt\n",
    "import time\n",
    "import datetime\n",
    "import missingno as msno\n",
    "import tensorflow as tf\n",
    "\n",
    "# Import from sklearn\n",
    "from sklearn.model_selection import train_test_split, GridSearchCV\n",
    "from sklearn.pipeline import Pipeline\n",
    "from sklearn.linear_model import LinearRegression, LogisticRegression\n",
    "from sklearn.preprocessing import PolynomialFeatures, StandardScaler, MinMaxScaler, OneHotEncoder, LabelBinarizer, LabelEncoder\n",
    "import category_encoders as ce\n",
    "from sklearn.feature_extraction import FeatureHasher\n",
    "from sklearn.decomposition import PCA\n",
    "from sklearn.cluster import KMeans\n",
    "from sklearn.metrics import silhouette_score, ConfusionMatrixDisplay, confusion_matrix, plot_confusion_matrix, multilabel_confusion_matrix, accuracy_score, recall_score, precision_score, roc_auc_score, roc_curve, plot_roc_curve, f1_score\n",
    "from tensorflow.keras.models import Sequential\n",
    "from tensorflow.keras.layers import Dense, Dropout\n",
    "from tensorflow.keras.callbacks import EarlyStopping\n",
    "from tensorflow.keras.wrappers.scikit_learn import KerasRegressor, KerasClassifier\n",
    "from sklearn.tree import DecisionTreeClassifier, plot_tree, export_text\n",
    "from sklearn.ensemble import GradientBoostingClassifier, AdaBoostClassifier, RandomForestClassifier, BaggingClassifier\n",
    "from xgboost import XGBClassifier\n",
    "\n",
    "# Set a random seed\n",
    "from numpy.random import seed\n",
    "seed(8)\n",
    "from tensorflow.random import set_seed\n",
    "set_seed(8)\n",
    "\n",
    "# Data Visualization\n",
    "sns.set_theme(context='notebook', style='darkgrid', palette='bright')"
   ]
  },
  {
   "cell_type": "code",
   "execution_count": 2,
   "id": "45fad466-2acf-425b-99db-a2acb5a354d4",
   "metadata": {},
   "outputs": [
    {
     "data": {
      "text/html": [
       "<div>\n",
       "<style scoped>\n",
       "    .dataframe tbody tr th:only-of-type {\n",
       "        vertical-align: middle;\n",
       "    }\n",
       "\n",
       "    .dataframe tbody tr th {\n",
       "        vertical-align: top;\n",
       "    }\n",
       "\n",
       "    .dataframe thead th {\n",
       "        text-align: right;\n",
       "    }\n",
       "</style>\n",
       "<table border=\"1\" class=\"dataframe\">\n",
       "  <thead>\n",
       "    <tr style=\"text-align: right;\">\n",
       "      <th></th>\n",
       "      <th>name</th>\n",
       "      <th>artist</th>\n",
       "      <th>track_id</th>\n",
       "      <th>instrumentalness</th>\n",
       "      <th>danceability</th>\n",
       "      <th>energy</th>\n",
       "      <th>liveness</th>\n",
       "      <th>loudness</th>\n",
       "      <th>acousticness</th>\n",
       "      <th>valence</th>\n",
       "      <th>speechiness</th>\n",
       "      <th>tempo</th>\n",
       "      <th>key</th>\n",
       "      <th>time_signature</th>\n",
       "      <th>length</th>\n",
       "      <th>popularity</th>\n",
       "      <th>mood</th>\n",
       "      <th>mood_map</th>\n",
       "      <th>cluster</th>\n",
       "    </tr>\n",
       "  </thead>\n",
       "  <tbody>\n",
       "    <tr>\n",
       "      <th>0</th>\n",
       "      <td>Kiss Me More (feat. SZA)</td>\n",
       "      <td>Doja Cat</td>\n",
       "      <td>748mdHapucXQri7IAO8yFK</td>\n",
       "      <td>0.000158</td>\n",
       "      <td>0.762</td>\n",
       "      <td>0.701</td>\n",
       "      <td>0.1230</td>\n",
       "      <td>-3.541</td>\n",
       "      <td>0.23500</td>\n",
       "      <td>0.742</td>\n",
       "      <td>0.0286</td>\n",
       "      <td>110.968</td>\n",
       "      <td>8</td>\n",
       "      <td>4</td>\n",
       "      <td>208866</td>\n",
       "      <td>92</td>\n",
       "      <td>Energetic</td>\n",
       "      <td>2</td>\n",
       "      <td>2</td>\n",
       "    </tr>\n",
       "    <tr>\n",
       "      <th>1</th>\n",
       "      <td>seaside_demo</td>\n",
       "      <td>SEB</td>\n",
       "      <td>73M0rMVx5CWE8M4uATSsto</td>\n",
       "      <td>0.000133</td>\n",
       "      <td>0.706</td>\n",
       "      <td>0.824</td>\n",
       "      <td>0.1110</td>\n",
       "      <td>-7.959</td>\n",
       "      <td>0.35500</td>\n",
       "      <td>0.860</td>\n",
       "      <td>0.0694</td>\n",
       "      <td>94.980</td>\n",
       "      <td>0</td>\n",
       "      <td>4</td>\n",
       "      <td>132000</td>\n",
       "      <td>54</td>\n",
       "      <td>Energetic</td>\n",
       "      <td>2</td>\n",
       "      <td>2</td>\n",
       "    </tr>\n",
       "    <tr>\n",
       "      <th>2</th>\n",
       "      <td>Shivers</td>\n",
       "      <td>Ed Sheeran</td>\n",
       "      <td>6bQfNiqyCX7UaQSvVVGo4I</td>\n",
       "      <td>0.000000</td>\n",
       "      <td>0.788</td>\n",
       "      <td>0.859</td>\n",
       "      <td>0.0424</td>\n",
       "      <td>-2.724</td>\n",
       "      <td>0.28100</td>\n",
       "      <td>0.822</td>\n",
       "      <td>0.0856</td>\n",
       "      <td>141.020</td>\n",
       "      <td>2</td>\n",
       "      <td>4</td>\n",
       "      <td>207853</td>\n",
       "      <td>78</td>\n",
       "      <td>Energetic</td>\n",
       "      <td>2</td>\n",
       "      <td>2</td>\n",
       "    </tr>\n",
       "    <tr>\n",
       "      <th>3</th>\n",
       "      <td>Heat Waves</td>\n",
       "      <td>Glass Animals</td>\n",
       "      <td>02MWAaffLxlfxAUY7c5dvx</td>\n",
       "      <td>0.000007</td>\n",
       "      <td>0.761</td>\n",
       "      <td>0.525</td>\n",
       "      <td>0.0921</td>\n",
       "      <td>-6.900</td>\n",
       "      <td>0.44000</td>\n",
       "      <td>0.531</td>\n",
       "      <td>0.0944</td>\n",
       "      <td>80.870</td>\n",
       "      <td>11</td>\n",
       "      <td>4</td>\n",
       "      <td>238805</td>\n",
       "      <td>85</td>\n",
       "      <td>Energetic</td>\n",
       "      <td>2</td>\n",
       "      <td>2</td>\n",
       "    </tr>\n",
       "    <tr>\n",
       "      <th>4</th>\n",
       "      <td>Electric Love</td>\n",
       "      <td>BØRNS</td>\n",
       "      <td>2GiJYvgVaD2HtM8GqD9EgQ</td>\n",
       "      <td>0.001370</td>\n",
       "      <td>0.611</td>\n",
       "      <td>0.797</td>\n",
       "      <td>0.2600</td>\n",
       "      <td>-7.627</td>\n",
       "      <td>0.00543</td>\n",
       "      <td>0.518</td>\n",
       "      <td>0.0533</td>\n",
       "      <td>120.041</td>\n",
       "      <td>6</td>\n",
       "      <td>4</td>\n",
       "      <td>218106</td>\n",
       "      <td>82</td>\n",
       "      <td>Energetic</td>\n",
       "      <td>2</td>\n",
       "      <td>2</td>\n",
       "    </tr>\n",
       "  </tbody>\n",
       "</table>\n",
       "</div>"
      ],
      "text/plain": [
       "                       name         artist                track_id  \\\n",
       "0  Kiss Me More (feat. SZA)       Doja Cat  748mdHapucXQri7IAO8yFK   \n",
       "1              seaside_demo            SEB  73M0rMVx5CWE8M4uATSsto   \n",
       "2                   Shivers     Ed Sheeran  6bQfNiqyCX7UaQSvVVGo4I   \n",
       "3                Heat Waves  Glass Animals  02MWAaffLxlfxAUY7c5dvx   \n",
       "4             Electric Love          BØRNS  2GiJYvgVaD2HtM8GqD9EgQ   \n",
       "\n",
       "   instrumentalness  danceability  energy  liveness  loudness  acousticness  \\\n",
       "0          0.000158         0.762   0.701    0.1230    -3.541       0.23500   \n",
       "1          0.000133         0.706   0.824    0.1110    -7.959       0.35500   \n",
       "2          0.000000         0.788   0.859    0.0424    -2.724       0.28100   \n",
       "3          0.000007         0.761   0.525    0.0921    -6.900       0.44000   \n",
       "4          0.001370         0.611   0.797    0.2600    -7.627       0.00543   \n",
       "\n",
       "   valence  speechiness    tempo  key  time_signature  length  popularity  \\\n",
       "0    0.742       0.0286  110.968    8               4  208866          92   \n",
       "1    0.860       0.0694   94.980    0               4  132000          54   \n",
       "2    0.822       0.0856  141.020    2               4  207853          78   \n",
       "3    0.531       0.0944   80.870   11               4  238805          85   \n",
       "4    0.518       0.0533  120.041    6               4  218106          82   \n",
       "\n",
       "        mood  mood_map  cluster  \n",
       "0  Energetic         2        2  \n",
       "1  Energetic         2        2  \n",
       "2  Energetic         2        2  \n",
       "3  Energetic         2        2  \n",
       "4  Energetic         2        2  "
      ]
     },
     "execution_count": 2,
     "metadata": {},
     "output_type": "execute_result"
    }
   ],
   "source": [
    "df = pd.read_csv('../data/df_moodadj_cluster.csv')\n",
    "df.head()"
   ]
  },
  {
   "cell_type": "code",
   "execution_count": 3,
   "id": "4612f84c-910a-492c-b9f5-9276a94c1a4c",
   "metadata": {},
   "outputs": [
    {
     "data": {
      "text/plain": [
       "(5849, 19)"
      ]
     },
     "execution_count": 3,
     "metadata": {},
     "output_type": "execute_result"
    }
   ],
   "source": [
    "df.shape"
   ]
  },
  {
   "cell_type": "code",
   "execution_count": 4,
   "id": "4d56fd20-50b7-4ace-807b-4a7f9987d279",
   "metadata": {},
   "outputs": [
    {
     "name": "stdout",
     "output_type": "stream",
     "text": [
      "<class 'pandas.core.frame.DataFrame'>\n",
      "RangeIndex: 5849 entries, 0 to 5848\n",
      "Data columns (total 19 columns):\n",
      " #   Column            Non-Null Count  Dtype  \n",
      "---  ------            --------------  -----  \n",
      " 0   name              5849 non-null   object \n",
      " 1   artist            5849 non-null   object \n",
      " 2   track_id          5849 non-null   object \n",
      " 3   instrumentalness  5849 non-null   float64\n",
      " 4   danceability      5849 non-null   float64\n",
      " 5   energy            5849 non-null   float64\n",
      " 6   liveness          5849 non-null   float64\n",
      " 7   loudness          5849 non-null   float64\n",
      " 8   acousticness      5849 non-null   float64\n",
      " 9   valence           5849 non-null   float64\n",
      " 10  speechiness       5849 non-null   float64\n",
      " 11  tempo             5849 non-null   float64\n",
      " 12  key               5849 non-null   int64  \n",
      " 13  time_signature    5849 non-null   int64  \n",
      " 14  length            5849 non-null   int64  \n",
      " 15  popularity        5849 non-null   int64  \n",
      " 16  mood              5849 non-null   object \n",
      " 17  mood_map          5849 non-null   int64  \n",
      " 18  cluster           5849 non-null   int64  \n",
      "dtypes: float64(9), int64(6), object(4)\n",
      "memory usage: 868.3+ KB\n"
     ]
    }
   ],
   "source": [
    "df.info()"
   ]
  },
  {
   "cell_type": "markdown",
   "id": "48503bfd-78f9-4855-90e5-948257003cee",
   "metadata": {},
   "source": [
    "#### **Null model:** \n",
    "###### Evaluate class imbalances\n",
    "###### Classes are no longer balanced"
   ]
  },
  {
   "cell_type": "code",
   "execution_count": 5,
   "id": "59b1616f-48b7-4a47-81a7-d9de1edfad18",
   "metadata": {},
   "outputs": [
    {
     "data": {
      "text/plain": [
       "Energetic    0.472559\n",
       "Chill        0.283125\n",
       "Sad          0.244315\n",
       "Name: mood, dtype: float64"
      ]
     },
     "execution_count": 5,
     "metadata": {},
     "output_type": "execute_result"
    }
   ],
   "source": [
    "df['mood'].value_counts(normalize=True)"
   ]
  },
  {
   "cell_type": "code",
   "execution_count": 6,
   "id": "392116a9-c2b7-44f2-b13e-80aa27705ea0",
   "metadata": {},
   "outputs": [
    {
     "data": {
      "text/plain": [
       "2    0.472559\n",
       "1    0.283125\n",
       "0    0.244315\n",
       "Name: mood_map, dtype: float64"
      ]
     },
     "execution_count": 6,
     "metadata": {},
     "output_type": "execute_result"
    }
   ],
   "source": [
    "df['mood_map'].value_counts(normalize=True)"
   ]
  },
  {
   "cell_type": "markdown",
   "id": "58a85b76-148d-4287-9527-c82fc0e0041b",
   "metadata": {},
   "source": [
    "#### **Model without clusters**"
   ]
  },
  {
   "cell_type": "markdown",
   "id": "e9ac401c-1811-4080-9bf6-9bd1aded2242",
   "metadata": {},
   "source": [
    "#### **Pre-processing**"
   ]
  },
  {
   "cell_type": "code",
   "execution_count": 7,
   "id": "18de0bd8-8a5f-4665-b542-d0371388c21a",
   "metadata": {},
   "outputs": [],
   "source": [
    "# X audio features\n",
    "X_audio = df[['danceability', \n",
    "                'energy', \n",
    "                'loudness', \n",
    "                'speechiness', \n",
    "                'acousticness',\n",
    "                'instrumentalness', \n",
    "                'liveness', \n",
    "                'valence']]\n",
    "\n",
    "y = df['mood_map']"
   ]
  },
  {
   "cell_type": "code",
   "execution_count": 8,
   "id": "d7403278-14b3-4fec-9433-bb57df323ad8",
   "metadata": {},
   "outputs": [],
   "source": [
    "# set up train_test_split with stratification to include equal classes of each\n",
    "X_train, X_test, y_train, y_test = train_test_split(X_audio, y, \n",
    "                                                     test_size=0.3, \n",
    "                                                     stratify=y, \n",
    "                                                     random_state=42)\n",
    "\n",
    "# standardize X data\n",
    "x = MinMaxScaler()\n",
    "X_train_x = x.fit_transform(X_train)\n",
    "X_test_x = x.transform(X_test)\n",
    "\n",
    "# LabelBinarizer for multiclass classification response variable\n",
    "binarize = LabelBinarizer()\n",
    "y_train_binarize = binarize.fit_transform(y_train)\n",
    "y_test_binarize = binarize.transform(y_test)"
   ]
  },
  {
   "cell_type": "code",
   "execution_count": 9,
   "id": "178519c6-2be0-4d64-93e2-f68bda009070",
   "metadata": {},
   "outputs": [],
   "source": [
    "def mood_model():\n",
    "    \n",
    "    n_input = X_train_x[0].shape\n",
    "\n",
    "    model = Sequential()\n",
    "\n",
    "    model.add(Dense(12, \n",
    "                    activation='relu', \n",
    "                    input_shape=(n_input)))\n",
    "    \n",
    "    model.add(Dense(6, activation='relu'))\n",
    "\n",
    "    model.add(Dense(3, activation='softmax'))\n",
    "    \n",
    "    model.compile(loss='categorical_crossentropy',\n",
    "                  optimizer='adam',\n",
    "                  metrics=[['accuracy'],\n",
    "                           [tf.keras.metrics.Precision()],\n",
    "                           [tf.keras.metrics.Recall()]])\n",
    "\n",
    "    return model"
   ]
  },
  {
   "cell_type": "code",
   "execution_count": 10,
   "id": "d0e0799a-e20f-4071-8ebb-a2411078ca63",
   "metadata": {},
   "outputs": [
    {
     "name": "stdout",
     "output_type": "stream",
     "text": [
      "Epoch 00046: early stopping\n",
      "Train score: 0.7164142727851868\n",
      "Test score: 0.7247863411903381\n"
     ]
    }
   ],
   "source": [
    "classifier = KerasClassifier(build_fn=mood_model,\n",
    "                             epochs=200,\n",
    "                             verbose=0)\n",
    "early_stop = EarlyStopping(monitor='val_loss', min_delta=0, patience=10, \n",
    "                               verbose=1, mode='auto')\n",
    "history=classifier.fit(X_train_x,\n",
    "               y_train_binarize,\n",
    "               validation_data=(X_test_x, y_test_binarize),\n",
    "               epochs=200,\n",
    "               batch_size=16,\n",
    "               callbacks=[early_stop],\n",
    "               verbose=0)\n",
    "print(f'Train score: {classifier.score(X_train_x, y_train_binarize)}')\n",
    "print(f'Test score: {classifier.score(X_test_x, y_test_binarize)}')"
   ]
  },
  {
   "cell_type": "code",
   "execution_count": 12,
   "id": "dfb1b8e4-8292-423a-bb80-a244b4be0e5c",
   "metadata": {},
   "outputs": [
    {
     "data": {
      "image/png": "[encoded data removed]",
      "text/plain": [
       "<Figure size 864x576 with 1 Axes>"
      ]
     },
     "metadata": {},
     "output_type": "display_data"
    }
   ],
   "source": [
    "train_acc = history.history['accuracy']\n",
    "test_acc = history.history['val_accuracy']\n",
    "train_recall = history.history['recall']\n",
    "test_recall = history.history['val_recall']\n",
    "train_precision = history.history['precision']\n",
    "test_precision = history.history['val_precision']\n",
    "plt.figure(figsize=(12,8))\n",
    "plt.plot(history.history['loss'], label='Training Loss', color=\"darkorchid\")\n",
    "plt.plot(history.history['val_loss'], label='Validation Loss', color='plum')\n",
    "plt.plot(train_recall, label='Training Recall', color='palegreen')\n",
    "plt.plot(test_recall, label='Testing Recall', color = 'darkgreen')\n",
    "plt.plot(train_acc, label='Training Accuracy', color='turquoise')\n",
    "plt.plot(test_acc, label='Testing Accuracy', color=\"darkslategray\");\n",
    "plt.plot(train_precision, label='Training Precision', color=\"darkorange\")\n",
    "plt.plot(test_precision, label='Testing Precision', color='peachpuff')\n",
    "plt.legend();"
   ]
  },
  {
   "cell_type": "code",
   "execution_count": 13,
   "id": "d47c9e00-f2f7-4eae-80c5-b5998d962ed9",
   "metadata": {},
   "outputs": [
    {
     "name": "stdout",
     "output_type": "stream",
     "text": [
      "128/128 [==============================] - 0s 1000us/step - loss: 0.6669 - accuracy: 0.7164 - precision: 0.7707 - recall: 0.6453\n",
      "Train score: [0.6668630838394165, 0.7164142727851868, 0.7707117795944214, 0.6453346610069275]\n",
      "55/55 [==============================] - 0s 904us/step - loss: 0.6730 - accuracy: 0.7248 - precision: 0.7787 - recall: 0.6456\n",
      "Test score: [0.6729673743247986, 0.7247863411903381, 0.7786941528320312, 0.6455840468406677]\n"
     ]
    }
   ],
   "source": [
    "print(f'Train score: {classifier.model.evaluate(X_train_x, y_train_binarize)}')\n",
    "print(f'Test score: {classifier.model.evaluate(X_test_x, y_test_binarize)}')"
   ]
  },
  {
   "cell_type": "code",
   "execution_count": 14,
   "id": "19a74b37-17d5-4df6-b023-de96c01e5a46",
   "metadata": {},
   "outputs": [
    {
     "name": "stderr",
     "output_type": "stream",
     "text": [
      "C:\\Users\\Brianna\\Anaconda3\\lib\\site-packages\\tensorflow\\python\\keras\\engine\\sequential.py:455: UserWarning: `model.predict_classes()` is deprecated and will be removed after 2021-01-01. Please use instead:* `np.argmax(model.predict(x), axis=-1)`,   if your model does multi-class classification   (e.g. if it uses a `softmax` last-layer activation).* `(model.predict(x) > 0.5).astype(\"int32\")`,   if your model does binary classification   (e.g. if it uses a `sigmoid` last-layer activation).\n",
      "  warnings.warn('`model.predict_classes()` is deprecated and '\n"
     ]
    }
   ],
   "source": [
    "y_preds=classifier.predict(X_test_x)"
   ]
  },
  {
   "cell_type": "code",
   "execution_count": 15,
   "id": "d12a974a-8696-4af5-a15b-5ec8a2982629",
   "metadata": {},
   "outputs": [
    {
     "data": {
      "text/plain": [
       "array([0, 1, 2])"
      ]
     },
     "execution_count": 15,
     "metadata": {},
     "output_type": "execute_result"
    }
   ],
   "source": [
    "classifier.classes_"
   ]
  },
  {
   "cell_type": "code",
   "execution_count": 16,
   "id": "a8cb9033-021f-4ccf-bf8e-04612ebc0116",
   "metadata": {},
   "outputs": [
    {
     "data": {
      "text/plain": [
       "0.7247863247863248"
      ]
     },
     "execution_count": 16,
     "metadata": {},
     "output_type": "execute_result"
    }
   ],
   "source": [
    "accuracy_score(y_test, y_preds)"
   ]
  },
  {
   "cell_type": "code",
   "execution_count": 17,
   "id": "9bbed5fa-f8f2-4a61-a3f6-196e091a5bc4",
   "metadata": {},
   "outputs": [
    {
     "name": "stdout",
     "output_type": "stream",
     "text": [
      "Sad: 0.6177024482109228\n",
      "Calm: 0.7887323943661971\n",
      "Energetic: 0.7659574468085106\n"
     ]
    }
   ],
   "source": [
    "print(f'Sad: {precision_score(y_test, y_preds, average=None)[0]}')\n",
    "print(f'Calm: {precision_score(y_test, y_preds, average=None)[1]}')\n",
    "print(f'Energetic: {precision_score(y_test, y_preds, average=None)[2]}')"
   ]
  },
  {
   "cell_type": "code",
   "execution_count": 18,
   "id": "3f2b301e-ee7a-4ae1-b7f8-595e4cd77185",
   "metadata": {},
   "outputs": [
    {
     "name": "stdout",
     "output_type": "stream",
     "text": [
      "Sad: 0.7645687645687645\n",
      "Calm: 0.4507042253521127\n",
      "Energetic: 0.8685162846803377\n"
     ]
    }
   ],
   "source": [
    "print(f'Sad: {recall_score(y_test, y_preds, average=None)[0]}')\n",
    "print(f'Calm: {recall_score(y_test, y_preds, average=None)[1]}')\n",
    "print(f'Energetic: {recall_score(y_test, y_preds, average=None)[2]}')"
   ]
  },
  {
   "cell_type": "code",
   "execution_count": 19,
   "id": "9455a8a1-8a4f-46aa-b11a-2ff52d02df93",
   "metadata": {},
   "outputs": [
    {
     "data": {
      "image/png": "[encoded data removed]",
      "text/plain": [
       "<Figure size 432x360 with 2 Axes>"
      ]
     },
     "metadata": {},
     "output_type": "display_data"
    }
   ],
   "source": [
    "cm = confusion_matrix(y_test, y_preds, labels=classifier.classes_)\n",
    "cm_df = pd.DataFrame(cm, index=['Sad', 'Calm', 'Energetic'], columns=['Sad', 'Calm', 'Energetic'])\n",
    "plt.figure(figsize=(6,5))\n",
    "sns.heatmap(cm_df, annot=True, cmap='viridis')\n",
    "plt.title('Confusion Matrix')\n",
    "plt.ylabel('Actual Values')\n",
    "plt.xlabel('Predicted Values')\n",
    "plt.show()"
   ]
  },
  {
   "cell_type": "code",
   "execution_count": 20,
   "id": "33dbae63-8b1a-4d8b-b6cf-ab909b3a0849",
   "metadata": {},
   "outputs": [
    {
     "name": "stdout",
     "output_type": "stream",
     "text": [
      "Sad: 0.6833333333333332\n",
      "Calm: 0.5736235595390525\n",
      "Energetic: 0.8140192198982474\n"
     ]
    }
   ],
   "source": [
    "print(f'Sad: {f1_score(y_test, y_preds, average=None)[0]}')\n",
    "print(f'Calm: {f1_score(y_test, y_preds, average=None)[1]}')\n",
    "print(f'Energetic: {f1_score(y_test, y_preds, average=None)[2]}')"
   ]
  },
  {
   "cell_type": "code",
   "execution_count": 21,
   "id": "1b32ea5a-fd41-460a-abef-3474f95638e6",
   "metadata": {},
   "outputs": [
    {
     "name": "stdout",
     "output_type": "stream",
     "text": [
      "Macro: 0.6903253709235444\n",
      "Weighted: 0.7139959215877814\n"
     ]
    }
   ],
   "source": [
    "print(f\"Macro: {f1_score(y_test, y_preds, average='macro')}\")\n",
    "print(f\"Weighted: {f1_score(y_test, y_preds, average='weighted')}\")"
   ]
  },
  {
   "cell_type": "code",
   "execution_count": 22,
   "id": "f02c3b9a-1b24-4e37-8b17-7cedc967f055",
   "metadata": {},
   "outputs": [],
   "source": [
    "pred_df = pd.DataFrame({'true_values'     : y_test,\n",
    "                        'prediction_prob' : classifier.predict_proba(X_test)[:,1]})"
   ]
  },
  {
   "cell_type": "code",
   "execution_count": 23,
   "id": "11ba7d71-e165-4642-8681-7012414edc0d",
   "metadata": {},
   "outputs": [
    {
     "data": {
      "text/html": [
       "<div>\n",
       "<style scoped>\n",
       "    .dataframe tbody tr th:only-of-type {\n",
       "        vertical-align: middle;\n",
       "    }\n",
       "\n",
       "    .dataframe tbody tr th {\n",
       "        vertical-align: top;\n",
       "    }\n",
       "\n",
       "    .dataframe thead th {\n",
       "        text-align: right;\n",
       "    }\n",
       "</style>\n",
       "<table border=\"1\" class=\"dataframe\">\n",
       "  <thead>\n",
       "    <tr style=\"text-align: right;\">\n",
       "      <th></th>\n",
       "      <th>true_values</th>\n",
       "      <th>prediction_prob</th>\n",
       "    </tr>\n",
       "  </thead>\n",
       "  <tbody>\n",
       "    <tr>\n",
       "      <th>1580</th>\n",
       "      <td>0</td>\n",
       "      <td>1.000000</td>\n",
       "    </tr>\n",
       "    <tr>\n",
       "      <th>3994</th>\n",
       "      <td>1</td>\n",
       "      <td>1.000000</td>\n",
       "    </tr>\n",
       "    <tr>\n",
       "      <th>5064</th>\n",
       "      <td>2</td>\n",
       "      <td>0.999982</td>\n",
       "    </tr>\n",
       "    <tr>\n",
       "      <th>2092</th>\n",
       "      <td>2</td>\n",
       "      <td>0.996580</td>\n",
       "    </tr>\n",
       "    <tr>\n",
       "      <th>3526</th>\n",
       "      <td>1</td>\n",
       "      <td>1.000000</td>\n",
       "    </tr>\n",
       "  </tbody>\n",
       "</table>\n",
       "</div>"
      ],
      "text/plain": [
       "      true_values  prediction_prob\n",
       "1580            0         1.000000\n",
       "3994            1         1.000000\n",
       "5064            2         0.999982\n",
       "2092            2         0.996580\n",
       "3526            1         1.000000"
      ]
     },
     "execution_count": 23,
     "metadata": {},
     "output_type": "execute_result"
    }
   ],
   "source": [
    "pred_df.head()"
   ]
  },
  {
   "cell_type": "code",
   "execution_count": 24,
   "id": "c2cc1162-7846-47fd-bc2e-bc0aa9525c72",
   "metadata": {},
   "outputs": [
    {
     "name": "stdout",
     "output_type": "stream",
     "text": [
      "0.8634823344259802\n",
      "0.8575234807404036\n"
     ]
    }
   ],
   "source": [
    "# Generate class membership probabilities\n",
    "y_pred_probs = classifier.predict_proba(X_test_x)\n",
    "\n",
    "roc_curve_weighted=roc_auc_score(y_test, y_pred_probs, average=\"weighted\", multi_class=\"ovr\")\n",
    "roc_curve_macro=roc_auc_score(y_test, y_pred_probs, average='macro', multi_class=\"ovr\")\n",
    "print(roc_curve_weighted)\n",
    "print(roc_curve_macro)"
   ]
  },
  {
   "cell_type": "code",
   "execution_count": 25,
   "id": "fc906012-2ea6-49c7-940b-77e89e371146",
   "metadata": {},
   "outputs": [
    {
     "data": {
      "image/png": "[encoded data removed]",
      "text/plain": [
       "<Figure size 432x288 with 1 Axes>"
      ]
     },
     "metadata": {},
     "output_type": "display_data"
    }
   ],
   "source": [
    "# roc curve for classes\n",
    "fpr = {}\n",
    "tpr = {}\n",
    "thresh ={}\n",
    "\n",
    "n_class = 3\n",
    "\n",
    "for i in range(n_class):    \n",
    "    fpr[i], tpr[i], thresh[i] = roc_curve(y_test, y_pred_probs[:,i], pos_label=i)\n",
    "    \n",
    "# plotting  \n",
    "sns.set_palette('viridis')\n",
    "plt.plot(fpr[0], tpr[0], linestyle='-',label='Sad')\n",
    "plt.plot(fpr[1], tpr[1], linestyle='-',label='Calm')\n",
    "plt.plot(fpr[2], tpr[2], linestyle='-',label='Energetic')\n",
    "\n",
    "# add worst case scenario line\n",
    "plt.plot([0, 1], [0, 1], label=\"baseline\", linestyle=\"--\")\n",
    "\n",
    "plt.title('Multiclass ROC curve')\n",
    "plt.xlabel('False Positive Rate')\n",
    "plt.ylabel('True Positive rate')\n",
    "plt.legend(loc='best')\n",
    "plt.savefig('Multiclass ROC');  "
   ]
  },
  {
   "cell_type": "markdown",
   "id": "ad053a18-6d9f-4a97-b468-e47ea7a13f98",
   "metadata": {},
   "source": [
    "##### **Model With Clusters**"
   ]
  },
  {
   "cell_type": "code",
   "execution_count": 26,
   "id": "4f4f8793-2f69-411c-94d9-3aba665fe34e",
   "metadata": {},
   "outputs": [],
   "source": [
    "# X audio features\n",
    "X_audio_cl = df[['danceability', \n",
    "                'energy', \n",
    "                'loudness', \n",
    "                'speechiness', \n",
    "                'acousticness',\n",
    "                'instrumentalness', \n",
    "                'liveness', \n",
    "                'valence',\n",
    "                'cluster']]\n",
    "\n",
    "y = df['mood_map']"
   ]
  },
  {
   "cell_type": "code",
   "execution_count": 27,
   "id": "fcaa2d83-9766-4515-80c4-9be22dc0145f",
   "metadata": {},
   "outputs": [],
   "source": [
    "# set up train_test_split with stratification to include equal classes of each\n",
    "X_train, X_test, y_train, y_test = train_test_split(X_audio_cl, y, \n",
    "                                                     test_size=0.3, \n",
    "                                                     stratify=y, \n",
    "                                                     random_state=42)\n",
    "\n",
    "# standardize X data\n",
    "x = MinMaxScaler()\n",
    "X_train_x = x.fit_transform(X_train)\n",
    "X_test_x = x.transform(X_test)\n",
    "\n",
    "# LabelBinarizer for multiclass classification response variable\n",
    "binarize = LabelBinarizer()\n",
    "y_train_binarize = binarize.fit_transform(y_train)\n",
    "y_test_binarize = binarize.transform(y_test)"
   ]
  },
  {
   "cell_type": "code",
   "execution_count": 28,
   "id": "7f39b0a4-49e3-417f-8807-eb84f54a9f2c",
   "metadata": {
    "tags": []
   },
   "outputs": [
    {
     "name": "stdout",
     "output_type": "stream",
     "text": [
      "Epoch 00061: early stopping\n",
      "Train score: 0.717391312122345\n",
      "Test score: 0.716239333152771\n"
     ]
    }
   ],
   "source": [
    "classifier_cl = KerasClassifier(build_fn=mood_model,\n",
    "                                epochs=200,\n",
    "                                verbose=0)\n",
    "early_stop = EarlyStopping(monitor='val_loss', min_delta=0, patience=10, \n",
    "                               verbose=1, mode='auto')\n",
    "history_cl=classifier_cl.fit(X_train_x,\n",
    "                             y_train_binarize,\n",
    "                             validation_data=(X_test_x, y_test_binarize),\n",
    "                             epochs=200,\n",
    "                             batch_size=16,\n",
    "                             callbacks=[early_stop],\n",
    "                             verbose=0)\n",
    "print(f'Train score: {classifier_cl.score(X_train_x, y_train_binarize)}')\n",
    "print(f'Test score: {classifier_cl.score(X_test_x, y_test_binarize)}')"
   ]
  },
  {
   "cell_type": "code",
   "execution_count": 29,
   "id": "50e26ae0-6a8b-403e-b46b-09dc33df3bfc",
   "metadata": {},
   "outputs": [
    {
     "name": "stderr",
     "output_type": "stream",
     "text": [
      "C:\\Users\\Brianna\\Anaconda3\\lib\\site-packages\\tensorflow\\python\\keras\\engine\\sequential.py:455: UserWarning: `model.predict_classes()` is deprecated and will be removed after 2021-01-01. Please use instead:* `np.argmax(model.predict(x), axis=-1)`,   if your model does multi-class classification   (e.g. if it uses a `softmax` last-layer activation).* `(model.predict(x) > 0.5).astype(\"int32\")`,   if your model does binary classification   (e.g. if it uses a `sigmoid` last-layer activation).\n",
      "  warnings.warn('`model.predict_classes()` is deprecated and '\n"
     ]
    }
   ],
   "source": [
    "y_preds=classifier_cl.predict(X_test_x)\n",
    "y_pred_probs = classifier_cl.predict_proba(X_test_x)"
   ]
  },
  {
   "cell_type": "code",
   "execution_count": 30,
   "id": "d8e70c67-087d-4c84-a87a-c82dd8a4eeb3",
   "metadata": {},
   "outputs": [
    {
     "data": {
      "image/png": "[encoded data removed]",
      "text/plain": [
       "<Figure size 432x360 with 2 Axes>"
      ]
     },
     "metadata": {},
     "output_type": "display_data"
    }
   ],
   "source": [
    "cm = confusion_matrix(y_test, y_preds, labels=classifier_cl.classes_)\n",
    "cm_df = pd.DataFrame(cm, index=['Sad', 'Calm', 'Energetic'], columns=['Sad', 'Calm', 'Energetic'])\n",
    "plt.figure(figsize=(6,5))\n",
    "sns.heatmap(cm_df, annot=True, cmap='viridis')\n",
    "plt.title('Confusion Matrix')\n",
    "plt.ylabel('Actual Values')\n",
    "plt.xlabel('Predicted Values')\n",
    "plt.show()"
   ]
  },
  {
   "cell_type": "code",
   "execution_count": 31,
   "id": "7d8bb5de-87fb-4ae0-8c81-b649dca1089a",
   "metadata": {},
   "outputs": [
    {
     "data": {
      "image/png": "[encoded data removed]",
      "text/plain": [
       "<Figure size 432x288 with 1 Axes>"
      ]
     },
     "metadata": {},
     "output_type": "display_data"
    }
   ],
   "source": [
    "# roc curve for classes\n",
    "fpr = {}\n",
    "tpr = {}\n",
    "thresh ={}\n",
    "\n",
    "n_class = 3\n",
    "\n",
    "for i in range(n_class):    \n",
    "    fpr[i], tpr[i], thresh[i] = roc_curve(y_test, y_pred_probs[:,i], pos_label=i)\n",
    "    \n",
    "# plotting  \n",
    "sns.set_palette('viridis')\n",
    "plt.plot(fpr[0], tpr[0], linestyle='-',label='Sad vs Rest')\n",
    "plt.plot(fpr[1], tpr[1], linestyle='-',label='Calm vs Rest')\n",
    "plt.plot(fpr[2], tpr[2], linestyle='-',label='Energetic vs Rest')\n",
    "\n",
    "# add worst case scenario line\n",
    "plt.plot([0, 1], [0, 1], label=\"baseline\", linestyle=\"--\")\n",
    "\n",
    "plt.title('Multiclass ROC curve')\n",
    "plt.xlabel('False Positive Rate')\n",
    "plt.ylabel('True Positive rate')\n",
    "plt.legend(loc='best')\n",
    "plt.savefig('../data_viz/Multiclass ROC');  "
   ]
  },
  {
   "cell_type": "code",
   "execution_count": 32,
   "id": "e6a29df4-934c-45f0-a638-a28e4bb7e5e0",
   "metadata": {},
   "outputs": [
    {
     "data": {
      "text/plain": [
       "2    0.472559\n",
       "1    0.283125\n",
       "0    0.244315\n",
       "Name: mood_map, dtype: float64"
      ]
     },
     "execution_count": 32,
     "metadata": {},
     "output_type": "execute_result"
    }
   ],
   "source": [
    "df['mood_map'].value_counts(normalize=True)"
   ]
  },
  {
   "cell_type": "code",
   "execution_count": 33,
   "id": "e9ace1f1-7886-4708-bf1a-fea10d64a983",
   "metadata": {},
   "outputs": [
    {
     "data": {
      "text/plain": [
       "2    0.623183\n",
       "0    0.250128\n",
       "1    0.126688\n",
       "Name: cluster, dtype: float64"
      ]
     },
     "execution_count": 33,
     "metadata": {},
     "output_type": "execute_result"
    }
   ],
   "source": [
    "df['cluster'].value_counts(normalize=True)"
   ]
  },
  {
   "cell_type": "code",
   "execution_count": 34,
   "id": "65e6095c-62ad-4cc1-b4bf-82207dab2117",
   "metadata": {},
   "outputs": [
    {
     "data": {
      "text/plain": [
       "2    0.394928\n",
       "1    0.374396\n",
       "0    0.230676\n",
       "Name: cluster, dtype: float64"
      ]
     },
     "execution_count": 34,
     "metadata": {},
     "output_type": "execute_result"
    }
   ],
   "source": [
    "df[df['mood_map'] == 1]['cluster'].value_counts(normalize=True)"
   ]
  },
  {
   "cell_type": "code",
   "execution_count": null,
   "id": "0d20e170-5149-433f-8010-c1311dd1c76f",
   "metadata": {},
   "outputs": [],
   "source": []
  }
 ],
 "metadata": {
  "kernelspec": {
   "display_name": "Python 3",
   "language": "python",
   "name": "python3"
  },
  "language_info": {
   "codemirror_mode": {
    "name": "ipython",
    "version": 3
   },
   "file_extension": ".py",
   "mimetype": "text/x-python",
   "name": "python",
   "nbconvert_exporter": "python",
   "pygments_lexer": "ipython3",
   "version": "3.8.8"
  }
 },
 "nbformat": 4,
 "nbformat_minor": 5
}
