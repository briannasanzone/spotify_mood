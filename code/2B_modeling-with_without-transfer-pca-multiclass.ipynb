{
 "cells": [
  {
   "cell_type": "code",
   "execution_count": 1,
   "id": "b1e71368-4bbd-45e8-bb94-f1f65402a9bb",
   "metadata": {},
   "outputs": [],
   "source": [
    "import pandas as pd\n",
    "import numpy as np\n",
    "import seaborn as sns\n",
    "import matplotlib.pyplot as plt\n",
    "import time\n",
    "import datetime\n",
    "import missingno as msno\n",
    "import tensorflow as tf\n",
    "\n",
    "# Import from sklearn\n",
    "from sklearn.model_selection import train_test_split, GridSearchCV\n",
    "from sklearn.pipeline import Pipeline\n",
    "from sklearn.linear_model import LinearRegression, LogisticRegression\n",
    "from sklearn.preprocessing import PolynomialFeatures, StandardScaler, MinMaxScaler, OneHotEncoder, LabelBinarizer, LabelEncoder\n",
    "import category_encoders as ce\n",
    "from sklearn.feature_extraction import FeatureHasher\n",
    "from sklearn.decomposition import PCA\n",
    "from sklearn.cluster import KMeans\n",
    "from sklearn.metrics import silhouette_score, ConfusionMatrixDisplay, confusion_matrix, plot_confusion_matrix, multilabel_confusion_matrix, accuracy_score, recall_score, precision_score, roc_auc_score, roc_curve, plot_roc_curve, f1_score\n",
    "from tensorflow.keras.models import Sequential\n",
    "from tensorflow.keras.layers import Dense, Dropout\n",
    "from tensorflow.keras.callbacks import EarlyStopping\n",
    "from tensorflow.keras.wrappers.scikit_learn import KerasRegressor, KerasClassifier\n",
    "from sklearn.tree import DecisionTreeClassifier, plot_tree, export_text\n",
    "from sklearn.ensemble import GradientBoostingClassifier, AdaBoostClassifier, RandomForestClassifier, BaggingClassifier\n",
    "from xgboost import XGBClassifier\n",
    "\n",
    "# Set a random seed\n",
    "from numpy.random import seed\n",
    "seed(8)\n",
    "from tensorflow.random import set_seed\n",
    "set_seed(8)\n",
    "\n",
    "# Data Visualization\n",
    "sns.set_theme(context='notebook', style='darkgrid', palette='bright')"
   ]
  },
  {
   "cell_type": "code",
   "execution_count": 3,
   "id": "45fad466-2acf-425b-99db-a2acb5a354d4",
   "metadata": {},
   "outputs": [
    {
     "data": {
      "text/html": [
       "<div>\n",
       "<style scoped>\n",
       "    .dataframe tbody tr th:only-of-type {\n",
       "        vertical-align: middle;\n",
       "    }\n",
       "\n",
       "    .dataframe tbody tr th {\n",
       "        vertical-align: top;\n",
       "    }\n",
       "\n",
       "    .dataframe thead th {\n",
       "        text-align: right;\n",
       "    }\n",
       "</style>\n",
       "<table border=\"1\" class=\"dataframe\">\n",
       "  <thead>\n",
       "    <tr style=\"text-align: right;\">\n",
       "      <th></th>\n",
       "      <th>name</th>\n",
       "      <th>artist</th>\n",
       "      <th>track_id</th>\n",
       "      <th>instrumentalness</th>\n",
       "      <th>danceability</th>\n",
       "      <th>energy</th>\n",
       "      <th>liveness</th>\n",
       "      <th>loudness</th>\n",
       "      <th>acousticness</th>\n",
       "      <th>valence</th>\n",
       "      <th>speechiness</th>\n",
       "      <th>tempo</th>\n",
       "      <th>key</th>\n",
       "      <th>time_signature</th>\n",
       "      <th>length</th>\n",
       "      <th>popularity</th>\n",
       "      <th>mood</th>\n",
       "      <th>mood_map</th>\n",
       "      <th>cluster</th>\n",
       "    </tr>\n",
       "  </thead>\n",
       "  <tbody>\n",
       "    <tr>\n",
       "      <th>0</th>\n",
       "      <td>Kiss Me More (feat. SZA)</td>\n",
       "      <td>Doja Cat</td>\n",
       "      <td>748mdHapucXQri7IAO8yFK</td>\n",
       "      <td>0.000158</td>\n",
       "      <td>0.762</td>\n",
       "      <td>0.701</td>\n",
       "      <td>0.1230</td>\n",
       "      <td>-3.541</td>\n",
       "      <td>0.23500</td>\n",
       "      <td>0.742</td>\n",
       "      <td>0.0286</td>\n",
       "      <td>110.968</td>\n",
       "      <td>8</td>\n",
       "      <td>4</td>\n",
       "      <td>208866</td>\n",
       "      <td>92</td>\n",
       "      <td>Energetic</td>\n",
       "      <td>2</td>\n",
       "      <td>0</td>\n",
       "    </tr>\n",
       "    <tr>\n",
       "      <th>1</th>\n",
       "      <td>seaside_demo</td>\n",
       "      <td>SEB</td>\n",
       "      <td>73M0rMVx5CWE8M4uATSsto</td>\n",
       "      <td>0.000133</td>\n",
       "      <td>0.706</td>\n",
       "      <td>0.824</td>\n",
       "      <td>0.1110</td>\n",
       "      <td>-7.959</td>\n",
       "      <td>0.35500</td>\n",
       "      <td>0.860</td>\n",
       "      <td>0.0694</td>\n",
       "      <td>94.980</td>\n",
       "      <td>0</td>\n",
       "      <td>4</td>\n",
       "      <td>132000</td>\n",
       "      <td>54</td>\n",
       "      <td>Energetic</td>\n",
       "      <td>2</td>\n",
       "      <td>0</td>\n",
       "    </tr>\n",
       "    <tr>\n",
       "      <th>2</th>\n",
       "      <td>Shivers</td>\n",
       "      <td>Ed Sheeran</td>\n",
       "      <td>6bQfNiqyCX7UaQSvVVGo4I</td>\n",
       "      <td>0.000000</td>\n",
       "      <td>0.788</td>\n",
       "      <td>0.859</td>\n",
       "      <td>0.0424</td>\n",
       "      <td>-2.724</td>\n",
       "      <td>0.28100</td>\n",
       "      <td>0.822</td>\n",
       "      <td>0.0856</td>\n",
       "      <td>141.020</td>\n",
       "      <td>2</td>\n",
       "      <td>4</td>\n",
       "      <td>207853</td>\n",
       "      <td>78</td>\n",
       "      <td>Energetic</td>\n",
       "      <td>2</td>\n",
       "      <td>0</td>\n",
       "    </tr>\n",
       "    <tr>\n",
       "      <th>3</th>\n",
       "      <td>Heat Waves</td>\n",
       "      <td>Glass Animals</td>\n",
       "      <td>02MWAaffLxlfxAUY7c5dvx</td>\n",
       "      <td>0.000007</td>\n",
       "      <td>0.761</td>\n",
       "      <td>0.525</td>\n",
       "      <td>0.0921</td>\n",
       "      <td>-6.900</td>\n",
       "      <td>0.44000</td>\n",
       "      <td>0.531</td>\n",
       "      <td>0.0944</td>\n",
       "      <td>80.870</td>\n",
       "      <td>11</td>\n",
       "      <td>4</td>\n",
       "      <td>238805</td>\n",
       "      <td>85</td>\n",
       "      <td>Energetic</td>\n",
       "      <td>2</td>\n",
       "      <td>0</td>\n",
       "    </tr>\n",
       "    <tr>\n",
       "      <th>4</th>\n",
       "      <td>Electric Love</td>\n",
       "      <td>BØRNS</td>\n",
       "      <td>2GiJYvgVaD2HtM8GqD9EgQ</td>\n",
       "      <td>0.001370</td>\n",
       "      <td>0.611</td>\n",
       "      <td>0.797</td>\n",
       "      <td>0.2600</td>\n",
       "      <td>-7.627</td>\n",
       "      <td>0.00543</td>\n",
       "      <td>0.518</td>\n",
       "      <td>0.0533</td>\n",
       "      <td>120.041</td>\n",
       "      <td>6</td>\n",
       "      <td>4</td>\n",
       "      <td>218106</td>\n",
       "      <td>82</td>\n",
       "      <td>Energetic</td>\n",
       "      <td>2</td>\n",
       "      <td>0</td>\n",
       "    </tr>\n",
       "  </tbody>\n",
       "</table>\n",
       "</div>"
      ],
      "text/plain": [
       "                       name         artist                track_id  \\\n",
       "0  Kiss Me More (feat. SZA)       Doja Cat  748mdHapucXQri7IAO8yFK   \n",
       "1              seaside_demo            SEB  73M0rMVx5CWE8M4uATSsto   \n",
       "2                   Shivers     Ed Sheeran  6bQfNiqyCX7UaQSvVVGo4I   \n",
       "3                Heat Waves  Glass Animals  02MWAaffLxlfxAUY7c5dvx   \n",
       "4             Electric Love          BØRNS  2GiJYvgVaD2HtM8GqD9EgQ   \n",
       "\n",
       "   instrumentalness  danceability  energy  liveness  loudness  acousticness  \\\n",
       "0          0.000158         0.762   0.701    0.1230    -3.541       0.23500   \n",
       "1          0.000133         0.706   0.824    0.1110    -7.959       0.35500   \n",
       "2          0.000000         0.788   0.859    0.0424    -2.724       0.28100   \n",
       "3          0.000007         0.761   0.525    0.0921    -6.900       0.44000   \n",
       "4          0.001370         0.611   0.797    0.2600    -7.627       0.00543   \n",
       "\n",
       "   valence  speechiness    tempo  key  time_signature  length  popularity  \\\n",
       "0    0.742       0.0286  110.968    8               4  208866          92   \n",
       "1    0.860       0.0694   94.980    0               4  132000          54   \n",
       "2    0.822       0.0856  141.020    2               4  207853          78   \n",
       "3    0.531       0.0944   80.870   11               4  238805          85   \n",
       "4    0.518       0.0533  120.041    6               4  218106          82   \n",
       "\n",
       "        mood  mood_map  cluster  \n",
       "0  Energetic         2        0  \n",
       "1  Energetic         2        0  \n",
       "2  Energetic         2        0  \n",
       "3  Energetic         2        0  \n",
       "4  Energetic         2        0  "
      ]
     },
     "execution_count": 3,
     "metadata": {},
     "output_type": "execute_result"
    }
   ],
   "source": [
    "df = pd.read_csv('../data/df_moodadj_cluster.csv')\n",
    "df.head()"
   ]
  },
  {
   "cell_type": "code",
   "execution_count": 5,
   "id": "4d56fd20-50b7-4ace-807b-4a7f9987d279",
   "metadata": {},
   "outputs": [
    {
     "name": "stdout",
     "output_type": "stream",
     "text": [
      "<class 'pandas.core.frame.DataFrame'>\n",
      "RangeIndex: 5849 entries, 0 to 5848\n",
      "Data columns (total 19 columns):\n",
      " #   Column            Non-Null Count  Dtype  \n",
      "---  ------            --------------  -----  \n",
      " 0   name              5849 non-null   object \n",
      " 1   artist            5849 non-null   object \n",
      " 2   track_id          5849 non-null   object \n",
      " 3   instrumentalness  5849 non-null   float64\n",
      " 4   danceability      5849 non-null   float64\n",
      " 5   energy            5849 non-null   float64\n",
      " 6   liveness          5849 non-null   float64\n",
      " 7   loudness          5849 non-null   float64\n",
      " 8   acousticness      5849 non-null   float64\n",
      " 9   valence           5849 non-null   float64\n",
      " 10  speechiness       5849 non-null   float64\n",
      " 11  tempo             5849 non-null   float64\n",
      " 12  key               5849 non-null   int64  \n",
      " 13  time_signature    5849 non-null   int64  \n",
      " 14  length            5849 non-null   int64  \n",
      " 15  popularity        5849 non-null   int64  \n",
      " 16  mood              5849 non-null   object \n",
      " 17  mood_map          5849 non-null   int64  \n",
      " 18  cluster           5849 non-null   int64  \n",
      "dtypes: float64(9), int64(6), object(4)\n",
      "memory usage: 868.3+ KB\n"
     ]
    }
   ],
   "source": [
    "df.info()"
   ]
  },
  {
   "cell_type": "markdown",
   "id": "48503bfd-78f9-4855-90e5-948257003cee",
   "metadata": {},
   "source": [
    "#### **Null model:** \n",
    "###### Evaluate class imbalances\n",
    "###### Classes are fairly balanced"
   ]
  },
  {
   "cell_type": "code",
   "execution_count": 7,
   "id": "59b1616f-48b7-4a47-81a7-d9de1edfad18",
   "metadata": {},
   "outputs": [
    {
     "data": {
      "text/plain": [
       "Energetic    0.472559\n",
       "Chill        0.283125\n",
       "Sad          0.244315\n",
       "Name: mood, dtype: float64"
      ]
     },
     "execution_count": 7,
     "metadata": {},
     "output_type": "execute_result"
    }
   ],
   "source": [
    "df['mood'].value_counts(normalize=True)"
   ]
  },
  {
   "cell_type": "markdown",
   "id": "e9ac401c-1811-4080-9bf6-9bd1aded2242",
   "metadata": {},
   "source": [
    "#### **Multiclass Multiclassification Models w/o PCA**"
   ]
  },
  {
   "cell_type": "code",
   "execution_count": 12,
   "id": "18de0bd8-8a5f-4665-b542-d0371388c21a",
   "metadata": {},
   "outputs": [],
   "source": [
    "# make copy of dataframe\n",
    "df = df.copy()\n",
    "\n",
    "# X audio features\n",
    "X = df[['danceability', \n",
    "        'energy', \n",
    "        'loudness', \n",
    "        'speechiness', \n",
    "        'acousticness',\n",
    "        'instrumentalness', \n",
    "        'liveness', \n",
    "        'valence',\n",
    "        'cluster']]\n",
    "\n",
    "y = df['mood_map']\n",
    "\n",
    "# # set up train_test_split with stratification to include equal classes of each\n",
    "X_train, X_test, y_train, y_test = train_test_split(X, \n",
    "                                                    y, \n",
    "                                                    test_size=0.3, \n",
    "                                                    stratify=y, \n",
    "                                                    random_state=42)\n",
    "\n",
    "# standardize X data\n",
    "x = MinMaxScaler()\n",
    "X_train_x = x.fit_transform(X_train)\n",
    "X_test_x = x.transform(X_test)"
   ]
  },
  {
   "cell_type": "code",
   "execution_count": 13,
   "id": "e72ce92d-22f5-4fda-b781-75e89f8b028f",
   "metadata": {},
   "outputs": [
    {
     "name": "stdout",
     "output_type": "stream",
     "text": [
      "Training Score: 0.7169\n",
      "Testing Score: 0.735\n"
     ]
    }
   ],
   "source": [
    "logreg=LogisticRegression(multi_class='multinomial', solver='lbfgs')\n",
    "logreg.fit(X_train_x, y_train)\n",
    "# Score on training and testing sets.\n",
    "print(f'Training Score: {round(logreg.score(X_train_x, y_train),4)}')\n",
    "print(f'Testing Score: {round(logreg.score(X_test_x, y_test),4)}')"
   ]
  },
  {
   "cell_type": "code",
   "execution_count": 14,
   "id": "559fd329-adc9-460f-92f2-58109c9db176",
   "metadata": {},
   "outputs": [
    {
     "name": "stdout",
     "output_type": "stream",
     "text": [
      "0.7205666829506595\n",
      "0.7316239316239316\n"
     ]
    }
   ],
   "source": [
    "abc = AdaBoostClassifier(random_state=42, n_estimators=4)\n",
    "abc.fit(X_train_x,y_train)\n",
    "print(abc.score(X_train_x, y_train))\n",
    "print(abc.score(X_test_x, y_test))"
   ]
  },
  {
   "cell_type": "code",
   "execution_count": 17,
   "id": "382af3c4-b265-4a29-b7e6-480811ea424e",
   "metadata": {},
   "outputs": [
    {
     "name": "stderr",
     "output_type": "stream",
     "text": [
      "C:\\Users\\Brianna\\Anaconda3\\lib\\site-packages\\xgboost\\sklearn.py:888: UserWarning: The use of label encoder in XGBClassifier is deprecated and will be removed in a future release. To remove this warning, do the following: 1) Pass option use_label_encoder=False when constructing XGBClassifier object; and 2) Encode your labels (y) as integers starting with 0, i.e. 0, 1, 2, ..., [num_class - 1].\n",
      "  warnings.warn(label_encoder_deprecation_msg, UserWarning)\n"
     ]
    },
    {
     "name": "stdout",
     "output_type": "stream",
     "text": [
      "[12:53:27] WARNING: ..\\src\\learner.cc:1061: Starting in XGBoost 1.3.0, the default evaluation metric used with the objective 'multi:softprob' was changed from 'merror' to 'mlogloss'. Explicitly set eval_metric if you'd like to restore the old behavior.\n",
      "0.975085490962384\n",
      "0.7350427350427351\n"
     ]
    }
   ],
   "source": [
    "xg = XGBClassifier(objective='multi:softprob')\n",
    "xg.fit(X_train_x, y_train)\n",
    "print(xg.score(X_train_x, y_train))\n",
    "print(xg.score(X_test_x, y_test))"
   ]
  },
  {
   "cell_type": "markdown",
   "id": "eaf41e02-1ad3-4c81-80a3-2cee3366c5cb",
   "metadata": {},
   "source": [
    "#### **With PCA**"
   ]
  },
  {
   "cell_type": "code",
   "execution_count": 57,
   "id": "46699a62-42e7-4b51-9e43-04f1970df2c3",
   "metadata": {},
   "outputs": [],
   "source": [
    "# X audio features\n",
    "X_audio = df[['danceability', \n",
    "              'energy', \n",
    "              'loudness', \n",
    "              'speechiness', \n",
    "              'acousticness',\n",
    "              'instrumentalness', \n",
    "              'liveness', \n",
    "              'valence',\n",
    "              'cluster']]\n",
    "\n",
    "# response variable\n",
    "y = df['mood_map']\n",
    "\n",
    "\n",
    "pf = PolynomialFeatures(degree = 3)\n",
    "X = pf.fit_transform(X_audio)\n",
    "\n",
    "# # set up train_test_split with stratification to include equal classes of each\n",
    "X_train, X_test, y_train, y_test = train_test_split(X, \n",
    "                                                    y, \n",
    "                                                    test_size=0.3, \n",
    "                                                    stratify=y, \n",
    "                                                    random_state=42)\n",
    "\n",
    "# standardize X data\n",
    "x = MinMaxScaler()\n",
    "X_train_x = x.fit_transform(X_train)\n",
    "X_test_x = x.transform(X_test)\n",
    "\n",
    "# instantiate PCA\n",
    "pca = PCA(n_components=40, random_state = 42)\n",
    "Z_train = pca.fit_transform(X_train_x)\n",
    "Z_test = pca.transform(X_test_x)"
   ]
  },
  {
   "cell_type": "code",
   "execution_count": 58,
   "id": "a2a6ae0f-428c-4246-9622-8a62610c7a49",
   "metadata": {},
   "outputs": [
    {
     "name": "stdout",
     "output_type": "stream",
     "text": [
      "Training Score: 0.7311\n",
      "Testing Score: 0.7345\n"
     ]
    }
   ],
   "source": [
    "logreg=LogisticRegression(multi_class='multinomial', max_iter=200, solver='lbfgs')\n",
    "logreg.fit(Z_train, y_train)\n",
    "# Score on training and testing sets.\n",
    "print(f'Training Score: {round(logreg.score(Z_train, y_train),4)}')\n",
    "print(f'Testing Score: {round(logreg.score(Z_test, y_test),4)}')"
   ]
  },
  {
   "cell_type": "code",
   "execution_count": 59,
   "id": "ea696d35-3675-46f6-abfd-7a434ead7aea",
   "metadata": {},
   "outputs": [
    {
     "name": "stdout",
     "output_type": "stream",
     "text": [
      "0.714704445530044\n",
      "0.7225071225071225\n"
     ]
    }
   ],
   "source": [
    "abc = AdaBoostClassifier(random_state=42, n_estimators=10)\n",
    "abc.fit(Z_train,y_train)\n",
    "print(abc.score(Z_train, y_train))\n",
    "print(abc.score(Z_test, y_test))"
   ]
  },
  {
   "cell_type": "code",
   "execution_count": 60,
   "id": "8c604997-eccc-4004-8549-a5a52aa5a383",
   "metadata": {},
   "outputs": [
    {
     "name": "stdout",
     "output_type": "stream",
     "text": [
      "0.7017586712261846\n",
      "0.7168091168091169\n"
     ]
    }
   ],
   "source": [
    "gbc = GradientBoostingClassifier(n_estimators = 3, max_depth=1, random_state=42)\n",
    "gbc.fit(Z_train, y_train)\n",
    "print(gbc.score(Z_train, y_train))\n",
    "print(gbc.score(Z_test, y_test))"
   ]
  },
  {
   "cell_type": "code",
   "execution_count": 61,
   "id": "6f751d97-ddd2-464d-b8dd-7f224ebaefa0",
   "metadata": {},
   "outputs": [
    {
     "name": "stdout",
     "output_type": "stream",
     "text": [
      "[13:00:30] WARNING: ..\\src\\learner.cc:1061: Starting in XGBoost 1.3.0, the default evaluation metric used with the objective 'multi:softprob' was changed from 'merror' to 'mlogloss'. Explicitly set eval_metric if you'd like to restore the old behavior.\n"
     ]
    },
    {
     "name": "stderr",
     "output_type": "stream",
     "text": [
      "C:\\Users\\Brianna\\Anaconda3\\lib\\site-packages\\xgboost\\sklearn.py:888: UserWarning: The use of label encoder in XGBClassifier is deprecated and will be removed in a future release. To remove this warning, do the following: 1) Pass option use_label_encoder=False when constructing XGBClassifier object; and 2) Encode your labels (y) as integers starting with 0, i.e. 0, 1, 2, ..., [num_class - 1].\n",
      "  warnings.warn(label_encoder_deprecation_msg, UserWarning)\n"
     ]
    },
    {
     "name": "stdout",
     "output_type": "stream",
     "text": [
      "0.9760625305324866\n",
      "0.7299145299145299\n"
     ]
    }
   ],
   "source": [
    "xg = XGBClassifier(objective='multi:softprob')\n",
    "xg.fit(Z_train, y_train)\n",
    "print(xg.score(Z_train, y_train))\n",
    "print(xg.score(Z_test, y_test))"
   ]
  },
  {
   "cell_type": "code",
   "execution_count": null,
   "id": "9925c808-a120-4c7e-9ab5-8da617043a84",
   "metadata": {},
   "outputs": [],
   "source": []
  }
 ],
 "metadata": {
  "kernelspec": {
   "display_name": "Python 3",
   "language": "python",
   "name": "python3"
  },
  "language_info": {
   "codemirror_mode": {
    "name": "ipython",
    "version": 3
   },
   "file_extension": ".py",
   "mimetype": "text/x-python",
   "name": "python",
   "nbconvert_exporter": "python",
   "pygments_lexer": "ipython3",
   "version": "3.8.8"
  }
 },
 "nbformat": 4,
 "nbformat_minor": 5
}
