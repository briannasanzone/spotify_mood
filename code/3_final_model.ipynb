{
 "cells": [
  {
   "cell_type": "code",
   "execution_count": 14,
   "id": "b1e71368-4bbd-45e8-bb94-f1f65402a9bb",
   "metadata": {},
   "outputs": [],
   "source": [
    "import pandas as pd\n",
    "import numpy as np\n",
    "import seaborn as sns\n",
    "import matplotlib.pyplot as plt\n",
    "import time\n",
    "import datetime\n",
    "import missingno as msno\n",
    "import tensorflow as tf\n",
    "\n",
    "# Import from sklearn\n",
    "from sklearn.model_selection import train_test_split, GridSearchCV\n",
    "from sklearn.pipeline import Pipeline\n",
    "from sklearn.linear_model import LogisticRegressionCV\n",
    "from sklearn.preprocessing import PolynomialFeatures, StandardScaler, MinMaxScaler, OneHotEncoder, LabelBinarizer, LabelEncoder\n",
    "import category_encoders as ce\n",
    "from sklearn.feature_extraction import FeatureHasher\n",
    "from sklearn.decomposition import PCA\n",
    "from sklearn.cluster import KMeans\n",
    "from sklearn.metrics import silhouette_score, ConfusionMatrixDisplay, confusion_matrix, plot_confusion_matrix, multilabel_confusion_matrix, accuracy_score, recall_score, precision_score, roc_auc_score, roc_curve, plot_roc_curve, f1_score\n",
    "from tensorflow.keras.models import Sequential\n",
    "from tensorflow.keras.layers import Dense, Dropout\n",
    "from tensorflow.keras.callbacks import EarlyStopping\n",
    "from tensorflow.keras.wrappers.scikit_learn import KerasRegressor, KerasClassifier\n",
    "from sklearn.tree import DecisionTreeClassifier, plot_tree, export_text\n",
    "from sklearn.ensemble import GradientBoostingClassifier, AdaBoostClassifier, RandomForestClassifier, BaggingClassifier\n",
    "from xgboost import XGBClassifier\n",
    "\n",
    "import pickle\n",
    "\n",
    "# Set a random seed\n",
    "from numpy.random import seed\n",
    "seed(8)\n",
    "from tensorflow.random import set_seed\n",
    "set_seed(8)\n",
    "\n",
    "# Data Visualization\n",
    "sns.set_theme(context='notebook', style='darkgrid', palette='viridis')\n",
    "\n",
    "import warnings\n",
    "warnings.filterwarnings(\"ignore\")"
   ]
  },
  {
   "cell_type": "code",
   "execution_count": 5,
   "id": "45fad466-2acf-425b-99db-a2acb5a354d4",
   "metadata": {},
   "outputs": [
    {
     "data": {
      "text/html": [
       "<div>\n",
       "<style scoped>\n",
       "    .dataframe tbody tr th:only-of-type {\n",
       "        vertical-align: middle;\n",
       "    }\n",
       "\n",
       "    .dataframe tbody tr th {\n",
       "        vertical-align: top;\n",
       "    }\n",
       "\n",
       "    .dataframe thead th {\n",
       "        text-align: right;\n",
       "    }\n",
       "</style>\n",
       "<table border=\"1\" class=\"dataframe\">\n",
       "  <thead>\n",
       "    <tr style=\"text-align: right;\">\n",
       "      <th></th>\n",
       "      <th>name</th>\n",
       "      <th>artist</th>\n",
       "      <th>track_id</th>\n",
       "      <th>instrumentalness</th>\n",
       "      <th>danceability</th>\n",
       "      <th>energy</th>\n",
       "      <th>liveness</th>\n",
       "      <th>loudness</th>\n",
       "      <th>acousticness</th>\n",
       "      <th>valence</th>\n",
       "      <th>speechiness</th>\n",
       "      <th>tempo</th>\n",
       "      <th>key</th>\n",
       "      <th>time_signature</th>\n",
       "      <th>length</th>\n",
       "      <th>popularity</th>\n",
       "      <th>mood</th>\n",
       "      <th>mood_map</th>\n",
       "      <th>cluster</th>\n",
       "    </tr>\n",
       "  </thead>\n",
       "  <tbody>\n",
       "    <tr>\n",
       "      <th>0</th>\n",
       "      <td>Kiss Me More (feat. SZA)</td>\n",
       "      <td>Doja Cat</td>\n",
       "      <td>748mdHapucXQri7IAO8yFK</td>\n",
       "      <td>0.000158</td>\n",
       "      <td>0.762</td>\n",
       "      <td>0.701</td>\n",
       "      <td>0.1230</td>\n",
       "      <td>-3.541</td>\n",
       "      <td>0.23500</td>\n",
       "      <td>0.742</td>\n",
       "      <td>0.0286</td>\n",
       "      <td>110.968</td>\n",
       "      <td>8</td>\n",
       "      <td>4</td>\n",
       "      <td>208866</td>\n",
       "      <td>92</td>\n",
       "      <td>Energetic</td>\n",
       "      <td>2</td>\n",
       "      <td>2</td>\n",
       "    </tr>\n",
       "    <tr>\n",
       "      <th>1</th>\n",
       "      <td>seaside_demo</td>\n",
       "      <td>SEB</td>\n",
       "      <td>73M0rMVx5CWE8M4uATSsto</td>\n",
       "      <td>0.000133</td>\n",
       "      <td>0.706</td>\n",
       "      <td>0.824</td>\n",
       "      <td>0.1110</td>\n",
       "      <td>-7.959</td>\n",
       "      <td>0.35500</td>\n",
       "      <td>0.860</td>\n",
       "      <td>0.0694</td>\n",
       "      <td>94.980</td>\n",
       "      <td>0</td>\n",
       "      <td>4</td>\n",
       "      <td>132000</td>\n",
       "      <td>54</td>\n",
       "      <td>Energetic</td>\n",
       "      <td>2</td>\n",
       "      <td>2</td>\n",
       "    </tr>\n",
       "    <tr>\n",
       "      <th>2</th>\n",
       "      <td>Shivers</td>\n",
       "      <td>Ed Sheeran</td>\n",
       "      <td>6bQfNiqyCX7UaQSvVVGo4I</td>\n",
       "      <td>0.000000</td>\n",
       "      <td>0.788</td>\n",
       "      <td>0.859</td>\n",
       "      <td>0.0424</td>\n",
       "      <td>-2.724</td>\n",
       "      <td>0.28100</td>\n",
       "      <td>0.822</td>\n",
       "      <td>0.0856</td>\n",
       "      <td>141.020</td>\n",
       "      <td>2</td>\n",
       "      <td>4</td>\n",
       "      <td>207853</td>\n",
       "      <td>78</td>\n",
       "      <td>Energetic</td>\n",
       "      <td>2</td>\n",
       "      <td>2</td>\n",
       "    </tr>\n",
       "    <tr>\n",
       "      <th>3</th>\n",
       "      <td>Heat Waves</td>\n",
       "      <td>Glass Animals</td>\n",
       "      <td>02MWAaffLxlfxAUY7c5dvx</td>\n",
       "      <td>0.000007</td>\n",
       "      <td>0.761</td>\n",
       "      <td>0.525</td>\n",
       "      <td>0.0921</td>\n",
       "      <td>-6.900</td>\n",
       "      <td>0.44000</td>\n",
       "      <td>0.531</td>\n",
       "      <td>0.0944</td>\n",
       "      <td>80.870</td>\n",
       "      <td>11</td>\n",
       "      <td>4</td>\n",
       "      <td>238805</td>\n",
       "      <td>85</td>\n",
       "      <td>Energetic</td>\n",
       "      <td>2</td>\n",
       "      <td>2</td>\n",
       "    </tr>\n",
       "    <tr>\n",
       "      <th>4</th>\n",
       "      <td>Electric Love</td>\n",
       "      <td>BØRNS</td>\n",
       "      <td>2GiJYvgVaD2HtM8GqD9EgQ</td>\n",
       "      <td>0.001370</td>\n",
       "      <td>0.611</td>\n",
       "      <td>0.797</td>\n",
       "      <td>0.2600</td>\n",
       "      <td>-7.627</td>\n",
       "      <td>0.00543</td>\n",
       "      <td>0.518</td>\n",
       "      <td>0.0533</td>\n",
       "      <td>120.041</td>\n",
       "      <td>6</td>\n",
       "      <td>4</td>\n",
       "      <td>218106</td>\n",
       "      <td>82</td>\n",
       "      <td>Energetic</td>\n",
       "      <td>2</td>\n",
       "      <td>2</td>\n",
       "    </tr>\n",
       "  </tbody>\n",
       "</table>\n",
       "</div>"
      ],
      "text/plain": [
       "                       name         artist                track_id  \\\n",
       "0  Kiss Me More (feat. SZA)       Doja Cat  748mdHapucXQri7IAO8yFK   \n",
       "1              seaside_demo            SEB  73M0rMVx5CWE8M4uATSsto   \n",
       "2                   Shivers     Ed Sheeran  6bQfNiqyCX7UaQSvVVGo4I   \n",
       "3                Heat Waves  Glass Animals  02MWAaffLxlfxAUY7c5dvx   \n",
       "4             Electric Love          BØRNS  2GiJYvgVaD2HtM8GqD9EgQ   \n",
       "\n",
       "   instrumentalness  danceability  energy  liveness  loudness  acousticness  \\\n",
       "0          0.000158         0.762   0.701    0.1230    -3.541       0.23500   \n",
       "1          0.000133         0.706   0.824    0.1110    -7.959       0.35500   \n",
       "2          0.000000         0.788   0.859    0.0424    -2.724       0.28100   \n",
       "3          0.000007         0.761   0.525    0.0921    -6.900       0.44000   \n",
       "4          0.001370         0.611   0.797    0.2600    -7.627       0.00543   \n",
       "\n",
       "   valence  speechiness    tempo  key  time_signature  length  popularity  \\\n",
       "0    0.742       0.0286  110.968    8               4  208866          92   \n",
       "1    0.860       0.0694   94.980    0               4  132000          54   \n",
       "2    0.822       0.0856  141.020    2               4  207853          78   \n",
       "3    0.531       0.0944   80.870   11               4  238805          85   \n",
       "4    0.518       0.0533  120.041    6               4  218106          82   \n",
       "\n",
       "        mood  mood_map  cluster  \n",
       "0  Energetic         2        2  \n",
       "1  Energetic         2        2  \n",
       "2  Energetic         2        2  \n",
       "3  Energetic         2        2  \n",
       "4  Energetic         2        2  "
      ]
     },
     "execution_count": 5,
     "metadata": {},
     "output_type": "execute_result"
    }
   ],
   "source": [
    "mood = pd.read_csv('../data/df_moodadj_cluster.csv')\n",
    "mood.head()"
   ]
  },
  {
   "cell_type": "code",
   "execution_count": 6,
   "id": "1d0eab98-ec60-4e53-bf61-03961e68dd83",
   "metadata": {},
   "outputs": [
    {
     "data": {
      "text/plain": [
       "(5849, 19)"
      ]
     },
     "execution_count": 6,
     "metadata": {},
     "output_type": "execute_result"
    }
   ],
   "source": [
    "mood.shape"
   ]
  },
  {
   "cell_type": "code",
   "execution_count": 7,
   "id": "3164ebc5-35f1-42db-88e0-9a1ffdabfadc",
   "metadata": {},
   "outputs": [],
   "source": [
    "# mood.to_csv('mood_label.csv', index=False)"
   ]
  },
  {
   "cell_type": "code",
   "execution_count": 8,
   "id": "4d56fd20-50b7-4ace-807b-4a7f9987d279",
   "metadata": {},
   "outputs": [
    {
     "name": "stdout",
     "output_type": "stream",
     "text": [
      "<class 'pandas.core.frame.DataFrame'>\n",
      "RangeIndex: 5849 entries, 0 to 5848\n",
      "Data columns (total 19 columns):\n",
      " #   Column            Non-Null Count  Dtype  \n",
      "---  ------            --------------  -----  \n",
      " 0   name              5849 non-null   object \n",
      " 1   artist            5849 non-null   object \n",
      " 2   track_id          5849 non-null   object \n",
      " 3   instrumentalness  5849 non-null   float64\n",
      " 4   danceability      5849 non-null   float64\n",
      " 5   energy            5849 non-null   float64\n",
      " 6   liveness          5849 non-null   float64\n",
      " 7   loudness          5849 non-null   float64\n",
      " 8   acousticness      5849 non-null   float64\n",
      " 9   valence           5849 non-null   float64\n",
      " 10  speechiness       5849 non-null   float64\n",
      " 11  tempo             5849 non-null   float64\n",
      " 12  key               5849 non-null   int64  \n",
      " 13  time_signature    5849 non-null   int64  \n",
      " 14  length            5849 non-null   int64  \n",
      " 15  popularity        5849 non-null   int64  \n",
      " 16  mood              5849 non-null   object \n",
      " 17  mood_map          5849 non-null   int64  \n",
      " 18  cluster           5849 non-null   int64  \n",
      "dtypes: float64(9), int64(6), object(4)\n",
      "memory usage: 868.3+ KB\n"
     ]
    }
   ],
   "source": [
    "mood.info()"
   ]
  },
  {
   "cell_type": "markdown",
   "id": "48503bfd-78f9-4855-90e5-948257003cee",
   "metadata": {},
   "source": [
    "#### **Null model:** \n",
    "###### Evaluate class imbalances\n",
    "###### Classes are fairly balanced"
   ]
  },
  {
   "cell_type": "code",
   "execution_count": 9,
   "id": "59b1616f-48b7-4a47-81a7-d9de1edfad18",
   "metadata": {},
   "outputs": [
    {
     "data": {
      "text/plain": [
       "Energetic    0.472559\n",
       "Chill        0.283125\n",
       "Sad          0.244315\n",
       "Name: mood, dtype: float64"
      ]
     },
     "execution_count": 9,
     "metadata": {},
     "output_type": "execute_result"
    }
   ],
   "source": [
    "mood['mood'].value_counts(normalize=True)"
   ]
  },
  {
   "cell_type": "code",
   "execution_count": 10,
   "id": "c89e6a01-6a0f-4021-872d-bca3071d7264",
   "metadata": {},
   "outputs": [
    {
     "data": {
      "text/plain": [
       "mood       cluster\n",
       "Chill      2           654\n",
       "           1           620\n",
       "           0           382\n",
       "Energetic  2          2551\n",
       "           0           202\n",
       "           1            11\n",
       "Sad        0           879\n",
       "           2           440\n",
       "           1           110\n",
       "Name: cluster, dtype: int64"
      ]
     },
     "execution_count": 10,
     "metadata": {},
     "output_type": "execute_result"
    }
   ],
   "source": [
    "mood[['cluster', 'mood']].groupby('mood')['cluster'].value_counts()"
   ]
  },
  {
   "cell_type": "markdown",
   "id": "e9ac401c-1811-4080-9bf6-9bd1aded2242",
   "metadata": {},
   "source": [
    "#### **Pre-processing**"
   ]
  },
  {
   "cell_type": "code",
   "execution_count": 11,
   "id": "18de0bd8-8a5f-4665-b542-d0371388c21a",
   "metadata": {},
   "outputs": [],
   "source": [
    "# make copy of dataframe\n",
    "mood = mood.copy()\n",
    "\n",
    "# X audio features\n",
    "X = mood[['danceability',\n",
    "          'energy', \n",
    "          'loudness', \n",
    "          'speechiness', \n",
    "          'acousticness',\n",
    "          'instrumentalness', \n",
    "          'liveness', \n",
    "          'valence']]\n",
    "\n",
    "y=mood['mood_map']"
   ]
  },
  {
   "cell_type": "markdown",
   "id": "3fc9eead-f1da-43b2-82f7-cb0921a42aea",
   "metadata": {},
   "source": [
    "#### **Null Model**"
   ]
  },
  {
   "cell_type": "code",
   "execution_count": 12,
   "id": "06877b4d-316d-4731-a605-2536e839f69d",
   "metadata": {},
   "outputs": [
    {
     "data": {
      "text/plain": [
       "2    0.472559\n",
       "1    0.283125\n",
       "0    0.244315\n",
       "Name: mood_map, dtype: float64"
      ]
     },
     "execution_count": 12,
     "metadata": {},
     "output_type": "execute_result"
    }
   ],
   "source": [
    "y.value_counts(normalize=True)"
   ]
  },
  {
   "cell_type": "markdown",
   "id": "68b48407-3f9d-46bf-b4a3-910627bca1ae",
   "metadata": {},
   "source": [
    "#### **Pre-processing**"
   ]
  },
  {
   "cell_type": "code",
   "execution_count": 16,
   "id": "d7403278-14b3-4fec-9433-bb57df323ad8",
   "metadata": {},
   "outputs": [],
   "source": [
    "# set up train_test_split with stratification to include equal classes of each\n",
    "X_train, X_test, y_train, y_test = train_test_split(X, y, \n",
    "                                                     test_size=0.25, \n",
    "                                                     stratify=y, \n",
    "                                                     random_state=42)\n",
    "\n",
    "# standardize X data\n",
    "x = StandardScaler()\n",
    "X_train_standard = x.fit_transform(X_train)\n",
    "X_test_standard = x.transform(X_test)"
   ]
  },
  {
   "cell_type": "code",
   "execution_count": 40,
   "id": "6fa68050-17e0-4e3a-b3a4-aaa27d5fda2e",
   "metadata": {},
   "outputs": [
    {
     "data": {
      "image/png": "[encoded data removed]",
      "text/plain": [
       "<Figure size 432x288 with 1 Axes>"
      ]
     },
     "metadata": {},
     "output_type": "display_data"
    }
   ],
   "source": [
    "sns.set_theme(context='notebook', style='darkgrid', palette='viridis')\n",
    "plt.hist(X_train_standard, bins=10);"
   ]
  },
  {
   "cell_type": "code",
   "execution_count": 52,
   "id": "9ddf249f-7fd3-41a4-b8a4-3f60a60d6524",
   "metadata": {},
   "outputs": [
    {
     "data": {
      "image/png": "[encoded data removed]",
      "text/plain": [
       "<Figure size 432x288 with 1 Axes>"
      ]
     },
     "metadata": {},
     "output_type": "display_data"
    }
   ],
   "source": [
    "sns.set_theme(context='notebook', style='darkgrid', palette='magma')\n",
    "plt.hist(X_train_scale, bins=9);"
   ]
  },
  {
   "cell_type": "code",
   "execution_count": 18,
   "id": "daaedd7c-4399-4b6c-9c69-215957ddbc05",
   "metadata": {},
   "outputs": [
    {
     "name": "stdout",
     "output_type": "stream",
     "text": [
      "0.7175102599179206\n",
      "0.7231715652768285\n"
     ]
    }
   ],
   "source": [
    "pipe = Pipeline([\n",
    "    ('poly', PolynomialFeatures(degree=2)),\n",
    "    (\"minmax\", MinMaxScaler()),\n",
    "    (\"pc\", PCA(n_components=45)),\n",
    "    (\"logreg\", LogisticRegressionCV(solver='liblinear', penalty='l1', random_state=42, max_iter=200))])\n",
    "\n",
    "pipe.fit(X_train, y_train)\n",
    "print(pipe.score(X_train, y_train))\n",
    "print(pipe.score(X_test, y_test))"
   ]
  },
  {
   "cell_type": "code",
   "execution_count": 19,
   "id": "dc945de4-23da-49a5-be62-3e4cdd3f08c7",
   "metadata": {},
   "outputs": [],
   "source": [
    "pickle.dump(pipe, open('../streamlit-app/final_mood_model.pkl', 'wb'))"
   ]
  },
  {
   "cell_type": "code",
   "execution_count": 20,
   "id": "d12a974a-8696-4af5-a15b-5ec8a2982629",
   "metadata": {},
   "outputs": [
    {
     "data": {
      "text/plain": [
       "array([0, 1, 2], dtype=int64)"
      ]
     },
     "execution_count": 20,
     "metadata": {},
     "output_type": "execute_result"
    }
   ],
   "source": [
    "pipe.classes_"
   ]
  },
  {
   "cell_type": "code",
   "execution_count": 21,
   "id": "3ca9961c-576f-40c9-9659-8d856603998d",
   "metadata": {},
   "outputs": [],
   "source": [
    "preds = pipe.predict(X_test)"
   ]
  },
  {
   "cell_type": "code",
   "execution_count": 22,
   "id": "a8cb9033-021f-4ccf-bf8e-04612ebc0116",
   "metadata": {},
   "outputs": [
    {
     "data": {
      "text/plain": [
       "0.7231715652768285"
      ]
     },
     "execution_count": 22,
     "metadata": {},
     "output_type": "execute_result"
    }
   ],
   "source": [
    "accuracy_score(y_test, preds)"
   ]
  },
  {
   "cell_type": "code",
   "execution_count": 23,
   "id": "9bbed5fa-f8f2-4a61-a3f6-196e091a5bc4",
   "metadata": {},
   "outputs": [
    {
     "name": "stdout",
     "output_type": "stream",
     "text": [
      "Sad: 0.6332518337408313\n",
      "Calm: 0.8341708542713567\n",
      "Energetic: 0.7403508771929824\n",
      "0.7359245217350568\n",
      "0.7406926495474437\n"
     ]
    }
   ],
   "source": [
    "print(f'Sad: {precision_score(y_test, preds, average=None)[0]}')\n",
    "print(f'Calm: {precision_score(y_test, preds, average=None)[1]}')\n",
    "print(f'Energetic: {precision_score(y_test, preds, average=None)[2]}')\n",
    "print(precision_score(y_test, preds, average='macro'))\n",
    "print(precision_score(y_test, preds, average='weighted'))"
   ]
  },
  {
   "cell_type": "code",
   "execution_count": 24,
   "id": "3f2b301e-ee7a-4ae1-b7f8-595e4cd77185",
   "metadata": {},
   "outputs": [
    {
     "name": "stdout",
     "output_type": "stream",
     "text": [
      "Sad: 0.723463687150838\n",
      "Calm: 0.40096618357487923\n",
      "Energetic: 0.9160636758321273\n",
      "0.6801645155192815\n",
      "0.7231715652768285\n"
     ]
    }
   ],
   "source": [
    "print(f'Sad: {recall_score(y_test, preds, average=None)[0]}')\n",
    "print(f'Calm: {recall_score(y_test, preds, average=None)[1]}')\n",
    "print(f'Energetic: {recall_score(y_test, preds, average=None)[2]}')\n",
    "print(recall_score(y_test, preds, average='macro'))\n",
    "print(recall_score(y_test, preds, average='weighted'))"
   ]
  },
  {
   "cell_type": "code",
   "execution_count": 25,
   "id": "9455a8a1-8a4f-46aa-b11a-2ff52d02df93",
   "metadata": {},
   "outputs": [
    {
     "data": {
      "image/png": "[encoded data removed]",
      "text/plain": [
       "<Figure size 432x360 with 2 Axes>"
      ]
     },
     "metadata": {},
     "output_type": "display_data"
    }
   ],
   "source": [
    "cm = confusion_matrix(y_test, preds, labels=pipe.classes_)\n",
    "cm_df = pd.DataFrame(cm, index=['Sad', 'Calm', 'Energetic'], columns=['Sad', 'Calm', 'Energetic'])\n",
    "plt.figure(figsize=(6,5))\n",
    "sns.heatmap(cm_df, annot=True, cmap='viridis')\n",
    "plt.title('Confusion Matrix')\n",
    "plt.ylabel('Actual Values')\n",
    "plt.xlabel('Predicted Values')\n",
    "plt.show()"
   ]
  },
  {
   "cell_type": "code",
   "execution_count": 26,
   "id": "33dbae63-8b1a-4d8b-b6cf-ab909b3a0849",
   "metadata": {},
   "outputs": [
    {
     "name": "stdout",
     "output_type": "stream",
     "text": [
      "Sad: 0.6753585397653195\n",
      "Calm: 0.5415986949429038\n",
      "Energetic: 0.8188874514877101\n"
     ]
    }
   ],
   "source": [
    "print(f'Sad: {f1_score(y_test, preds, average=None)[0]}')\n",
    "print(f'Calm: {f1_score(y_test, preds, average=None)[1]}')\n",
    "print(f'Energetic: {f1_score(y_test, preds, average=None)[2]}')"
   ]
  },
  {
   "cell_type": "code",
   "execution_count": 27,
   "id": "1b32ea5a-fd41-460a-abef-3474f95638e6",
   "metadata": {},
   "outputs": [
    {
     "name": "stdout",
     "output_type": "stream",
     "text": [
      "Macro: 0.6786148953986445\n",
      "Weighted: 0.7052983225703037\n"
     ]
    }
   ],
   "source": [
    "print(f\"Macro: {f1_score(y_test, preds, average='macro')}\")\n",
    "print(f\"Weighted: {f1_score(y_test, preds, average='weighted')}\")"
   ]
  },
  {
   "cell_type": "code",
   "execution_count": 28,
   "id": "f02c3b9a-1b24-4e37-8b17-7cedc967f055",
   "metadata": {},
   "outputs": [],
   "source": [
    "pred_df = pd.DataFrame({'true_values'     : y_test,\n",
    "                        'prediction_prob' : pipe.predict_proba(X_test)[:,1]})"
   ]
  },
  {
   "cell_type": "code",
   "execution_count": 29,
   "id": "11ba7d71-e165-4642-8681-7012414edc0d",
   "metadata": {},
   "outputs": [
    {
     "data": {
      "text/html": [
       "<div>\n",
       "<style scoped>\n",
       "    .dataframe tbody tr th:only-of-type {\n",
       "        vertical-align: middle;\n",
       "    }\n",
       "\n",
       "    .dataframe tbody tr th {\n",
       "        vertical-align: top;\n",
       "    }\n",
       "\n",
       "    .dataframe thead th {\n",
       "        text-align: right;\n",
       "    }\n",
       "</style>\n",
       "<table border=\"1\" class=\"dataframe\">\n",
       "  <thead>\n",
       "    <tr style=\"text-align: right;\">\n",
       "      <th></th>\n",
       "      <th>true_values</th>\n",
       "      <th>prediction_prob</th>\n",
       "    </tr>\n",
       "  </thead>\n",
       "  <tbody>\n",
       "    <tr>\n",
       "      <th>4737</th>\n",
       "      <td>2</td>\n",
       "      <td>0.045527</td>\n",
       "    </tr>\n",
       "    <tr>\n",
       "      <th>1799</th>\n",
       "      <td>0</td>\n",
       "      <td>0.204300</td>\n",
       "    </tr>\n",
       "    <tr>\n",
       "      <th>2681</th>\n",
       "      <td>2</td>\n",
       "      <td>0.117677</td>\n",
       "    </tr>\n",
       "    <tr>\n",
       "      <th>2571</th>\n",
       "      <td>2</td>\n",
       "      <td>0.116292</td>\n",
       "    </tr>\n",
       "    <tr>\n",
       "      <th>3819</th>\n",
       "      <td>1</td>\n",
       "      <td>0.098390</td>\n",
       "    </tr>\n",
       "    <tr>\n",
       "      <th>2850</th>\n",
       "      <td>2</td>\n",
       "      <td>0.133025</td>\n",
       "    </tr>\n",
       "    <tr>\n",
       "      <th>1719</th>\n",
       "      <td>0</td>\n",
       "      <td>0.287853</td>\n",
       "    </tr>\n",
       "    <tr>\n",
       "      <th>2678</th>\n",
       "      <td>2</td>\n",
       "      <td>0.277806</td>\n",
       "    </tr>\n",
       "    <tr>\n",
       "      <th>632</th>\n",
       "      <td>2</td>\n",
       "      <td>0.249139</td>\n",
       "    </tr>\n",
       "    <tr>\n",
       "      <th>4318</th>\n",
       "      <td>0</td>\n",
       "      <td>0.226824</td>\n",
       "    </tr>\n",
       "    <tr>\n",
       "      <th>540</th>\n",
       "      <td>2</td>\n",
       "      <td>0.209694</td>\n",
       "    </tr>\n",
       "    <tr>\n",
       "      <th>2557</th>\n",
       "      <td>2</td>\n",
       "      <td>0.141398</td>\n",
       "    </tr>\n",
       "    <tr>\n",
       "      <th>2314</th>\n",
       "      <td>2</td>\n",
       "      <td>0.108096</td>\n",
       "    </tr>\n",
       "    <tr>\n",
       "      <th>667</th>\n",
       "      <td>2</td>\n",
       "      <td>0.218735</td>\n",
       "    </tr>\n",
       "    <tr>\n",
       "      <th>3484</th>\n",
       "      <td>1</td>\n",
       "      <td>0.845464</td>\n",
       "    </tr>\n",
       "    <tr>\n",
       "      <th>4582</th>\n",
       "      <td>1</td>\n",
       "      <td>0.815119</td>\n",
       "    </tr>\n",
       "    <tr>\n",
       "      <th>685</th>\n",
       "      <td>2</td>\n",
       "      <td>0.262572</td>\n",
       "    </tr>\n",
       "    <tr>\n",
       "      <th>2264</th>\n",
       "      <td>2</td>\n",
       "      <td>0.146969</td>\n",
       "    </tr>\n",
       "    <tr>\n",
       "      <th>1994</th>\n",
       "      <td>2</td>\n",
       "      <td>0.177412</td>\n",
       "    </tr>\n",
       "    <tr>\n",
       "      <th>4588</th>\n",
       "      <td>1</td>\n",
       "      <td>0.979699</td>\n",
       "    </tr>\n",
       "    <tr>\n",
       "      <th>1190</th>\n",
       "      <td>0</td>\n",
       "      <td>0.249738</td>\n",
       "    </tr>\n",
       "    <tr>\n",
       "      <th>5602</th>\n",
       "      <td>1</td>\n",
       "      <td>0.944001</td>\n",
       "    </tr>\n",
       "    <tr>\n",
       "      <th>200</th>\n",
       "      <td>2</td>\n",
       "      <td>0.255359</td>\n",
       "    </tr>\n",
       "    <tr>\n",
       "      <th>5169</th>\n",
       "      <td>1</td>\n",
       "      <td>0.959318</td>\n",
       "    </tr>\n",
       "    <tr>\n",
       "      <th>2329</th>\n",
       "      <td>2</td>\n",
       "      <td>0.269093</td>\n",
       "    </tr>\n",
       "    <tr>\n",
       "      <th>1812</th>\n",
       "      <td>0</td>\n",
       "      <td>0.253194</td>\n",
       "    </tr>\n",
       "    <tr>\n",
       "      <th>4051</th>\n",
       "      <td>1</td>\n",
       "      <td>0.965165</td>\n",
       "    </tr>\n",
       "    <tr>\n",
       "      <th>1661</th>\n",
       "      <td>0</td>\n",
       "      <td>0.205873</td>\n",
       "    </tr>\n",
       "    <tr>\n",
       "      <th>2386</th>\n",
       "      <td>2</td>\n",
       "      <td>0.094547</td>\n",
       "    </tr>\n",
       "    <tr>\n",
       "      <th>3884</th>\n",
       "      <td>1</td>\n",
       "      <td>0.133788</td>\n",
       "    </tr>\n",
       "  </tbody>\n",
       "</table>\n",
       "</div>"
      ],
      "text/plain": [
       "      true_values  prediction_prob\n",
       "4737            2         0.045527\n",
       "1799            0         0.204300\n",
       "2681            2         0.117677\n",
       "2571            2         0.116292\n",
       "3819            1         0.098390\n",
       "2850            2         0.133025\n",
       "1719            0         0.287853\n",
       "2678            2         0.277806\n",
       "632             2         0.249139\n",
       "4318            0         0.226824\n",
       "540             2         0.209694\n",
       "2557            2         0.141398\n",
       "2314            2         0.108096\n",
       "667             2         0.218735\n",
       "3484            1         0.845464\n",
       "4582            1         0.815119\n",
       "685             2         0.262572\n",
       "2264            2         0.146969\n",
       "1994            2         0.177412\n",
       "4588            1         0.979699\n",
       "1190            0         0.249738\n",
       "5602            1         0.944001\n",
       "200             2         0.255359\n",
       "5169            1         0.959318\n",
       "2329            2         0.269093\n",
       "1812            0         0.253194\n",
       "4051            1         0.965165\n",
       "1661            0         0.205873\n",
       "2386            2         0.094547\n",
       "3884            1         0.133788"
      ]
     },
     "execution_count": 29,
     "metadata": {},
     "output_type": "execute_result"
    }
   ],
   "source": [
    "pred_df.head(30)"
   ]
  },
  {
   "cell_type": "code",
   "execution_count": 30,
   "id": "c2cc1162-7846-47fd-bc2e-bc0aa9525c72",
   "metadata": {},
   "outputs": [
    {
     "name": "stdout",
     "output_type": "stream",
     "text": [
      "0.8631056954734205\n",
      "0.85650827850034\n"
     ]
    }
   ],
   "source": [
    "# Generate class membership probabilities\n",
    "y_pred_probs = pipe.predict_proba(X_test)\n",
    "\n",
    "roc_curve_weighted=roc_auc_score(y_test, y_pred_probs, average=\"weighted\", multi_class=\"ovr\")\n",
    "roc_curve_macro=roc_auc_score(y_test, y_pred_probs, average='macro', multi_class=\"ovr\")\n",
    "print(roc_curve_weighted)\n",
    "print(roc_curve_macro)"
   ]
  },
  {
   "cell_type": "code",
   "execution_count": 31,
   "id": "fc906012-2ea6-49c7-940b-77e89e371146",
   "metadata": {},
   "outputs": [
    {
     "data": {
      "image/png": "[encoded data removed]",
      "text/plain": [
       "<Figure size 432x288 with 1 Axes>"
      ]
     },
     "metadata": {},
     "output_type": "display_data"
    }
   ],
   "source": [
    "# roc curve for classes\n",
    "fpr = {}\n",
    "tpr = {}\n",
    "thresh ={}\n",
    "\n",
    "n_class = 3\n",
    "\n",
    "for i in range(n_class):    \n",
    "    fpr[i], tpr[i], thresh[i] = roc_curve(y_test, y_pred_probs[:,i], pos_label=i)\n",
    "    \n",
    "# plotting  \n",
    "sns.set_palette('viridis')\n",
    "plt.plot(fpr[0], tpr[0], linestyle='-',label='Sad')\n",
    "plt.plot(fpr[1], tpr[1], linestyle='-',label='Chill')\n",
    "plt.plot(fpr[2], tpr[2], linestyle='-',label='Energetic')\n",
    "\n",
    "# add worst case scenario line\n",
    "plt.plot([0, 1], [0, 1], label=\"baseline\", linestyle=\"--\")\n",
    "\n",
    "plt.title('Multiclass ROC curve')\n",
    "plt.xlabel('False Positive Rate')\n",
    "plt.ylabel('True Positive rate')\n",
    "plt.legend(loc='best')\n",
    "plt.savefig('Multiclass ROC.png');  "
   ]
  },
  {
   "cell_type": "code",
   "execution_count": 71,
   "id": "6227f376-6f19-49dc-871d-b404d4322ea4",
   "metadata": {},
   "outputs": [],
   "source": [
    "def audio_analysis(playlist_id):    \n",
    "    import spotipy\n",
    "    from spotipy.oauth2 import SpotifyClientCredentials, SpotifyOAuth\n",
    "\n",
    "    # user credentials\n",
    "    client_id = 'a71512db396c4f9f9132928928f9ddff'\n",
    "    client_secret = '66041252b1f44debae39f3e09953dd74'\n",
    "    redirect_url = 'https://www.google.com'\n",
    "    user_id = \"bsanzone225\"\n",
    "    genius_access_token = \"F_FuandD31vRz1yy6nXxXyeK4eNw6fIlFzGN72_PJRgQkhE294AIk3m_jGUHd03E\"\n",
    "    scope_playlist = 'playlist-read-private'\n",
    "    \n",
    "    # get user authorization\n",
    "    user_auth_manager = SpotifyOAuth(scope=scope_playlist,client_id=client_id,client_secret=client_secret,username=user_id, redirect_uri=redirect_url)\n",
    "    sp = spotipy.Spotify(auth_manager=user_auth_manager)\n",
    "    \n",
    "    # get list of track ids in playlist\n",
    "    playlist = sp.playlist_tracks(playlist_id)\n",
    "    song_ids = []\n",
    "    for result in playlist['tracks']['items']:\n",
    "        song_ids.append(result['track']['id'])\n",
    "    \n",
    "    features_data = []\n",
    "    \n",
    "    for track in song_ids:\n",
    "        audio_features_list = sp.audio_features(tracks=track)\n",
    "\n",
    "        for feature in audio_features_list:\n",
    "        \n",
    "            acousticness = feature['acousticness']\n",
    "            danceability = feature['danceability']\n",
    "            energy = feature['energy']\n",
    "            instrumentalness = feature['instrumentalness']\n",
    "            liveness = feature['liveness']\n",
    "            valence = feature['valence']\n",
    "            loudness = feature['loudness']\n",
    "            speechiness = feature['speechiness']\n",
    "            tempo = feature['tempo']\n",
    "            key = feature['key']\n",
    "            time_signature = feature['time_signature']\n",
    "            track_id = feature['id']\n",
    "            track = sp.track(track_id)\n",
    "            name = track['name']\n",
    "            artist = track['artists'][0]['name']\n",
    "            length = track['duration_ms']\n",
    "            popularity = track['popularity']\n",
    "            features_data.append([name, \n",
    "                                  artist, \n",
    "                                  track_id, \n",
    "                                  instrumentalness, \n",
    "                                  danceability, \n",
    "                                  energy, \n",
    "                                  liveness, \n",
    "                                  loudness, \n",
    "                                  acousticness, \n",
    "                                  valence, \n",
    "                                  speechiness,\n",
    "                                  tempo, \n",
    "                                  key,\n",
    "                                  time_signature,\n",
    "                                  length,\n",
    "                                  popularity])\n",
    "    df = pd.DataFrame(features_data, columns = ['name', \n",
    "                                                'artist', \n",
    "                                                'track_id', \n",
    "                                                'instrumentalness', \n",
    "                                                'danceability', \n",
    "                                                'energy', \n",
    "                                                'liveness', \n",
    "                                                'loudness', \n",
    "                                                'acousticness', \n",
    "                                                'valence', \n",
    "                                                'speechiness',\n",
    "                                                'tempo', \n",
    "                                                'key',\n",
    "                                                'time_signature',\n",
    "                                                'length',\n",
    "                                                'popularity'])\n",
    "    \n",
    "    X_audio = df[['danceability', \n",
    "       'energy', \n",
    "       'loudness', \n",
    "       'speechiness', \n",
    "       'acousticness',\n",
    "       'instrumentalness', \n",
    "       'liveness', \n",
    "       'valence', \n",
    "       'tempo',\n",
    "       'key']]\n",
    "    \n",
    "    xc = StandardScaler()\n",
    "    X = xc.fit_transform(X_audio)\n",
    "    \n",
    "    km = KMeans(n_clusters=2)\n",
    "    km.fit(X)\n",
    "    df['vibe'] = km.labels_\n",
    "    \n",
    "    X = df[['danceability', \n",
    "           'energy', \n",
    "           'loudness', \n",
    "           'speechiness', \n",
    "           'acousticness',\n",
    "           'instrumentalness', \n",
    "           'liveness', \n",
    "           'valence', \n",
    "           'tempo',\n",
    "           'key',\n",
    "           'vibe']]\n",
    "    \n",
    "    \n",
    "    pipe = Pipeline([\n",
    "    ('poly', PolynomialFeatures(degree=2)),\n",
    "    (\"minmax\", MinMaxScaler()),\n",
    "    (\"pc\", PCA(n_components=32)),\n",
    "    (\"logreg\", LogisticRegressionCV(multi_class='multinomial', random_state=42, max_iter=50))])\n",
    "    pipe.fit(X_train, y_train)\n",
    "    preds = pipe.predict(X)\n",
    "    preds_list=[x for x in preds]\n",
    "    \n",
    "    n = len(preds_list)\n",
    "    sad = []\n",
    "    chill = []\n",
    "    energetic = []\n",
    "    \n",
    "    for pred in preds_list:\n",
    "        if pred == 0:\n",
    "            sad.append(pred)\n",
    "    for pred in preds_list:\n",
    "        if pred == 1:\n",
    "            chill.append(pred)\n",
    "    for pred in preds_list:\n",
    "        if pred == 2:\n",
    "            energetic.append(pred)\n",
    "            \n",
    "    n_sad = len(sad)\n",
    "    n_chill = len(chill)\n",
    "    n_energetic = len(energetic)\n",
    "    return print(f'This playlist is {np.round((n_sad/(n))*100,0)}% Sad, {np.round((n_chill/(n))*100,0)}% Chill, and {np.round((n_energetic/(n))*100,0)}% Energetic')\n"
   ]
  },
  {
   "cell_type": "code",
   "execution_count": 72,
   "id": "cc8e0d9d-6e07-4dd7-acd3-c2ee6893dc85",
   "metadata": {},
   "outputs": [
    {
     "name": "stdout",
     "output_type": "stream",
     "text": [
      "This playlist is 0.0% Sad, 33.0% Chill, and 67.0% Energetic\n"
     ]
    }
   ],
   "source": [
    "audio_analysis(playlist_id='7od0I5IC3GfzXeGj3i6ugy?si=c67a8ca3029a4005')"
   ]
  },
  {
   "cell_type": "code",
   "execution_count": 74,
   "id": "ad83c4d0-a284-467e-a5e9-eb1dc477aa54",
   "metadata": {},
   "outputs": [],
   "source": [
    "pickle.dump(audio_analysis, open('../streamlit-app/playlist_predict_mood.pkl', 'wb'))"
   ]
  },
  {
   "cell_type": "code",
   "execution_count": 354,
   "id": "60ce6afc-0202-4385-89d3-52a92a428702",
   "metadata": {},
   "outputs": [
    {
     "data": {
      "text/plain": [
       "array([[  0.762],\n",
       "       [  0.701],\n",
       "       [ -3.541],\n",
       "       ...,\n",
       "       [140.179],\n",
       "       [  0.   ],\n",
       "       [  0.   ]])"
      ]
     },
     "execution_count": 354,
     "metadata": {},
     "output_type": "execute_result"
    }
   ],
   "source": [
    "np.array(X).reshape(-1,1)"
   ]
  }
 ],
 "metadata": {
  "kernelspec": {
   "display_name": "Python 3",
   "language": "python",
   "name": "python3"
  },
  "language_info": {
   "codemirror_mode": {
    "name": "ipython",
    "version": 3
   },
   "file_extension": ".py",
   "mimetype": "text/x-python",
   "name": "python",
   "nbconvert_exporter": "python",
   "pygments_lexer": "ipython3",
   "version": "3.8.8"
  }
 },
 "nbformat": 4,
 "nbformat_minor": 5
}
