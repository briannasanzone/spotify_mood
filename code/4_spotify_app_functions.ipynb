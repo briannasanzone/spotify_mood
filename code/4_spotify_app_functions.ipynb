{
 "cells": [
  {
   "cell_type": "code",
   "execution_count": 1,
   "id": "1c9aaa52-6346-434f-ba9a-e3e3ca60520d",
   "metadata": {},
   "outputs": [],
   "source": [
    "from collections import defaultdict\n",
    "import pandas as pd\n",
    "import time\n",
    "import spotipy\n",
    "from spotipy.oauth2 import SpotifyClientCredentials, SpotifyOAuth\n",
    "import lyricsgenius\n",
    "import re\n",
    "import numpy as np"
   ]
  },
  {
   "cell_type": "code",
   "execution_count": 2,
   "id": "b2505a15-659d-4b22-ac0f-bc3a2735860f",
   "metadata": {},
   "outputs": [],
   "source": [
    "# credentials\n",
    "client_id = 'a71512db396c4f9f9132928928f9ddff'\n",
    "client_secret = '66041252b1f44debae39f3e09953dd74'\n",
    "redirect_url = 'https://www.google.com'\n",
    "user_id = \"bsanzone225\"\n",
    "# bsanzone225?si=61b8cf765f9d4be7\n",
    "genius_access_token = \"F_FuandD31vRz1yy6nXxXyeK4eNw6fIlFzGN72_PJRgQkhE294AIk3m_jGUHd03E\"\n",
    "scope_playlist = 'playlist-read-private'\n",
    "scope_user = 'user-library-read'\n",
    "scope_user_modify = 'user-library-modify'\n",
    "\n",
    "global_auth_manager = SpotifyClientCredentials(client_id, client_secret)\n",
    "sp = spotipy.Spotify(client_credentials_manager=global_auth_manager)\n",
    "\n",
    "user_auth_manager = SpotifyOAuth(scope=scope_playlist,client_id=client_id,client_secret=client_secret,username=user_id, redirect_uri=redirect_url)\n",
    "sp = spotipy.Spotify(auth_manager=user_auth_manager, requests_session=120)"
   ]
  },
  {
   "cell_type": "code",
   "execution_count": 3,
   "id": "e231c60a-4d29-46e4-a96a-facc481514d1",
   "metadata": {},
   "outputs": [],
   "source": [
    "def spotify_playlist_tracks_id(playlist_id):\n",
    "    \n",
    "    # user credentials\n",
    "    client_id = 'a71512db396c4f9f9132928928f9ddff'\n",
    "    client_secret = '66041252b1f44debae39f3e09953dd74'\n",
    "    redirect_url = 'https://www.google.com'\n",
    "    user_id = \"bsanzone225\"\n",
    "    genius_access_token = \"F_FuandD31vRz1yy6nXxXyeK4eNw6fIlFzGN72_PJRgQkhE294AIk3m_jGUHd03E\"\n",
    "    scope_playlist = 'playlist-read-private'\n",
    "    \n",
    "    # get user authorization\n",
    "    user_auth_manager = SpotifyOAuth(scope=scope_playlist,client_id=client_id,client_secret=client_secret,username=user_id, redirect_uri=redirect_url)\n",
    "    sp = spotipy.Spotify(auth_manager=user_auth_manager)\n",
    "    \n",
    "    # get list of track ids in playlist\n",
    "    playlist = sp.playlist_tracks(playlist_id)\n",
    "    song_ids = []\n",
    "    for result in playlist['tracks']['items']:\n",
    "        song_ids.append(result['track']['id'])\n",
    "    return song_ids"
   ]
  },
  {
   "cell_type": "code",
   "execution_count": null,
   "id": "55965048-95b5-49af-8e12-44449b1984b6",
   "metadata": {},
   "outputs": [],
   "source": [
    "def get_audio_features(track_ids):\n",
    "    \n",
    "    mood_features_data = []\n",
    "    \n",
    "    for track in track_ids:\n",
    "        mood_audio_features_list = sp.audio_features(tracks=track)\n",
    "\n",
    "        for feature in mood_audio_features_list:\n",
    "        \n",
    "            acousticness = feature['acousticness']\n",
    "            danceability = feature['danceability']\n",
    "            energy = feature['energy']\n",
    "            instrumentalness = feature['instrumentalness']\n",
    "            liveness = feature['liveness']\n",
    "            valence = feature['valence']\n",
    "            loudness = feature['loudness']\n",
    "            speechiness = feature['speechiness']\n",
    "            tempo = feature['tempo']\n",
    "            key = feature['key']\n",
    "            time_signature = feature['time_signature']\n",
    "            track_id = feature['id']\n",
    "            track = sp.track(track_id)\n",
    "            name = track['name']\n",
    "            artist = track['artists'][0]['name']\n",
    "            length = track['duration_ms']\n",
    "            popularity = track['popularity']\n",
    "            mood_features_data.append([name, \n",
    "                                  artist, \n",
    "                                  track_id, \n",
    "                                  instrumentalness, \n",
    "                                  danceability, \n",
    "                                  energy, \n",
    "                                  liveness, \n",
    "                                  loudness, \n",
    "                                  acousticness, \n",
    "                                  valence, \n",
    "                                  speechiness,\n",
    "                                  tempo, \n",
    "                                  key,\n",
    "                                  time_signature,\n",
    "                                  length,\n",
    "                                  popularity])\n",
    "    return mood_features_data"
   ]
  }
 ],
 "metadata": {
  "kernelspec": {
   "display_name": "Python 3",
   "language": "python",
   "name": "python3"
  },
  "language_info": {
   "codemirror_mode": {
    "name": "ipython",
    "version": 3
   },
   "file_extension": ".py",
   "mimetype": "text/x-python",
   "name": "python",
   "nbconvert_exporter": "python",
   "pygments_lexer": "ipython3",
   "version": "3.8.8"
  }
 },
 "nbformat": 4,
 "nbformat_minor": 5
}
