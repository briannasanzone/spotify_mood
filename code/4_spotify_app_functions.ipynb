{
 "cells": [
  {
   "cell_type": "code",
   "execution_count": 1,
   "source": [
    "from collections import defaultdict\r\n",
    "import pandas as pd\r\n",
    "import time\r\n",
    "import spotipy\r\n",
    "from spotipy.oauth2 import SpotifyClientCredentials, SpotifyOAuth\r\n",
    "import lyricsgenius\r\n",
    "import re\r\n",
    "import numpy as np"
   ],
   "outputs": [],
   "metadata": {}
  },
  {
   "cell_type": "code",
   "execution_count": 2,
   "source": [
    "# credentials\r\n",
    "client_id = 'YOUR CLIENT ID'\r\n",
    "client_secret = 'YOUR CLIENT SECRET'\r\n",
    "redirect_url = 'YOUR REDIRECT URL'\r\n",
    "user_id = 'YOUR USER ID'\r\n",
    "scope_playlist = 'playlist-read-private'\r\n",
    "\r\n",
    "scope_playlist = 'playlist-read-private'\r\n",
    "scope_user = 'user-library-read'\r\n",
    "scope_user_modify = 'user-library-modify'\r\n",
    "\r\n",
    "global_auth_manager = SpotifyClientCredentials(client_id, client_secret)\r\n",
    "sp = spotipy.Spotify(client_credentials_manager=global_auth_manager)\r\n",
    "\r\n",
    "user_auth_manager = SpotifyOAuth(scope=scope_playlist,client_id=client_id,client_secret=client_secret,username=user_id, redirect_uri=redirect_url)\r\n",
    "sp = spotipy.Spotify(auth_manager=user_auth_manager, requests_session=120)"
   ],
   "outputs": [],
   "metadata": {}
  },
  {
   "cell_type": "code",
   "execution_count": 3,
   "source": [
    "def spotify_playlist_tracks_id(playlist_id):\r\n",
    "    \r\n",
    "    # user credentials\r\n",
    "    client_id = 'YOUR CLIENT ID'\r\n",
    "    client_secret = 'YOUR CLIENT SECRET'\r\n",
    "    redirect_url = 'YOUR REDIRECT URL'\r\n",
    "    user_id = 'YOUR USER ID'\r\n",
    "\r\n",
    "    # scope\r\n",
    "    scope_playlist = 'playlist-read-private'\r\n",
    "    \r\n",
    "    # get user authorization\r\n",
    "    user_auth_manager = SpotifyOAuth(scope=scope_playlist,client_id=client_id,client_secret=client_secret,username=user_id, redirect_uri=redirect_url)\r\n",
    "    sp = spotipy.Spotify(auth_manager=user_auth_manager)\r\n",
    "    \r\n",
    "    # get list of track ids in playlist\r\n",
    "    playlist = sp.playlist_tracks(playlist_id)\r\n",
    "    song_ids = []\r\n",
    "    for result in playlist['tracks']['items']:\r\n",
    "        song_ids.append(result['track']['id'])\r\n",
    "    return song_ids"
   ],
   "outputs": [],
   "metadata": {}
  },
  {
   "cell_type": "code",
   "execution_count": null,
   "source": [
    "def get_audio_features(track_ids):\r\n",
    "    \r\n",
    "    mood_features_data = []\r\n",
    "    \r\n",
    "    for track in track_ids:\r\n",
    "        mood_audio_features_list = sp.audio_features(tracks=track)\r\n",
    "\r\n",
    "        for feature in mood_audio_features_list:\r\n",
    "        \r\n",
    "            acousticness = feature['acousticness']\r\n",
    "            danceability = feature['danceability']\r\n",
    "            energy = feature['energy']\r\n",
    "            instrumentalness = feature['instrumentalness']\r\n",
    "            liveness = feature['liveness']\r\n",
    "            valence = feature['valence']\r\n",
    "            loudness = feature['loudness']\r\n",
    "            speechiness = feature['speechiness']\r\n",
    "            tempo = feature['tempo']\r\n",
    "            key = feature['key']\r\n",
    "            time_signature = feature['time_signature']\r\n",
    "            track_id = feature['id']\r\n",
    "            track = sp.track(track_id)\r\n",
    "            name = track['name']\r\n",
    "            artist = track['artists'][0]['name']\r\n",
    "            length = track['duration_ms']\r\n",
    "            popularity = track['popularity']\r\n",
    "            mood_features_data.append([name, \r\n",
    "                                  artist, \r\n",
    "                                  track_id, \r\n",
    "                                  instrumentalness, \r\n",
    "                                  danceability, \r\n",
    "                                  energy, \r\n",
    "                                  liveness, \r\n",
    "                                  loudness, \r\n",
    "                                  acousticness, \r\n",
    "                                  valence, \r\n",
    "                                  speechiness,\r\n",
    "                                  tempo, \r\n",
    "                                  key,\r\n",
    "                                  time_signature,\r\n",
    "                                  length,\r\n",
    "                                  popularity])\r\n",
    "    return mood_features_data"
   ],
   "outputs": [],
   "metadata": {}
  }
 ],
 "metadata": {
  "kernelspec": {
   "name": "python3",
   "display_name": "Python 3.7.11 64-bit ('myenv': conda)"
  },
  "language_info": {
   "codemirror_mode": {
    "name": "ipython",
    "version": 3
   },
   "file_extension": ".py",
   "mimetype": "text/x-python",
   "name": "python",
   "nbconvert_exporter": "python",
   "pygments_lexer": "ipython3",
   "version": "3.7.11"
  },
  "interpreter": {
   "hash": "7f44218ad4a04a3f469eca3d18d24c8144ee8c1dbf0cc66a16272c72179d232c"
  }
 },
 "nbformat": 4,
 "nbformat_minor": 5
}