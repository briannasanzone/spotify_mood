{
 "cells": [
  {
   "cell_type": "code",
   "execution_count": 9,
   "id": "b1e71368-4bbd-45e8-bb94-f1f65402a9bb",
   "metadata": {},
   "outputs": [],
   "source": [
    "import pandas as pd\n",
    "import numpy as np\n",
    "import seaborn as sns\n",
    "import matplotlib.pyplot as plt\n",
    "import time\n",
    "import datetime\n",
    "import missingno as msno\n",
    "import tensorflow as tf\n",
    "\n",
    "# Import from sklearn\n",
    "from sklearn.model_selection import train_test_split, GridSearchCV\n",
    "from sklearn.pipeline import Pipeline\n",
    "from sklearn.linear_model import LinearRegression, LogisticRegressionCV\n",
    "from sklearn.preprocessing import PolynomialFeatures, StandardScaler, MinMaxScaler, OneHotEncoder, LabelBinarizer, LabelEncoder\n",
    "import category_encoders as ce\n",
    "from sklearn.feature_extraction import FeatureHasher\n",
    "from sklearn.decomposition import PCA\n",
    "from sklearn.cluster import KMeans\n",
    "from sklearn.metrics import silhouette_score, ConfusionMatrixDisplay, confusion_matrix, plot_confusion_matrix, multilabel_confusion_matrix, accuracy_score, recall_score, precision_score, roc_auc_score, roc_curve, plot_roc_curve, f1_score\n",
    "from tensorflow.keras.models import Sequential\n",
    "from tensorflow.keras.layers import Dense, Dropout\n",
    "from tensorflow.keras.callbacks import EarlyStopping\n",
    "from tensorflow.keras.wrappers.scikit_learn import KerasRegressor, KerasClassifier\n",
    "from sklearn.tree import DecisionTreeClassifier, plot_tree, export_text\n",
    "from sklearn.ensemble import GradientBoostingClassifier, AdaBoostClassifier, RandomForestClassifier, BaggingClassifier\n",
    "from xgboost import XGBClassifier\n",
    "\n",
    "import pickle\n",
    "\n",
    "# Set a random seed\n",
    "from numpy.random import seed\n",
    "seed(8)\n",
    "from tensorflow.random import set_seed\n",
    "set_seed(8)\n",
    "\n",
    "# Data Visualization\n",
    "sns.set_theme(context='notebook', style='darkgrid', palette='viridis')\n",
    "\n",
    "import warnings\n",
    "warnings.filterwarnings(\"ignore\")"
   ]
  },
  {
   "cell_type": "code",
   "execution_count": 10,
   "id": "45fad466-2acf-425b-99db-a2acb5a354d4",
   "metadata": {},
   "outputs": [],
   "source": [
    "mood = pd.read_csv('mood_label.csv')"
   ]
  },
  {
   "cell_type": "code",
   "execution_count": 12,
   "id": "dc12c387-2684-4947-82f9-223c5fd4c966",
   "metadata": {},
   "outputs": [],
   "source": [
    "mood['vibe'] = mood['mood_map'].map({0:0, 1:0, 2:1})\n",
    "X = mood[['danceability', \n",
    "           'energy', \n",
    "           'loudness', \n",
    "           'speechiness', \n",
    "           'acousticness',\n",
    "           'instrumentalness', \n",
    "           'liveness', \n",
    "           'valence', \n",
    "           'tempo',\n",
    "           'key',\n",
    "           'vibe']]\n",
    "\n",
    "y = mood['mood_map']\n",
    "\n",
    "# set up train_test_split with stratification\n",
    "X_train, X_test, y_train, y_test = train_test_split(X, \n",
    "                                                    y, \n",
    "                                                    test_size=0.25, \n",
    "                                                    stratify=y, \n",
    "                                                    random_state=42)"
   ]
  },
  {
   "cell_type": "code",
   "execution_count": 13,
   "id": "18c1f0ba-2c72-40cc-baa1-7a71fedb5e89",
   "metadata": {},
   "outputs": [
    {
     "name": "stdout",
     "output_type": "stream",
     "text": [
      "Wall time: 2.78 s\n"
     ]
    },
    {
     "data": {
      "text/plain": [
       "Pipeline(steps=[('poly', PolynomialFeatures()), ('minmax', MinMaxScaler()),\n",
       "                ('pc', PCA(n_components=32)),\n",
       "                ('logreg',\n",
       "                 LogisticRegressionCV(max_iter=50, multi_class='multinomial',\n",
       "                                      random_state=42))])"
      ]
     },
     "execution_count": 13,
     "metadata": {},
     "output_type": "execute_result"
    }
   ],
   "source": [
    "%%time\n",
    "pipe = Pipeline([\n",
    "    ('poly', PolynomialFeatures(degree=2)),\n",
    "    (\"minmax\", MinMaxScaler()),\n",
    "    (\"pc\", PCA(n_components=32)),\n",
    "    (\"logreg\", LogisticRegressionCV(multi_class='multinomial', random_state=42, max_iter=50))])\n",
    "\n",
    "pipe.fit(X_train, y_train)"
   ]
  }
 ],
 "metadata": {
  "kernelspec": {
   "display_name": "Python 3",
   "language": "python",
   "name": "python3"
  },
  "language_info": {
   "codemirror_mode": {
    "name": "ipython",
    "version": 3
   },
   "file_extension": ".py",
   "mimetype": "text/x-python",
   "name": "python",
   "nbconvert_exporter": "python",
   "pygments_lexer": "ipython3",
   "version": "3.8.8"
  }
 },
 "nbformat": 4,
 "nbformat_minor": 5
}
